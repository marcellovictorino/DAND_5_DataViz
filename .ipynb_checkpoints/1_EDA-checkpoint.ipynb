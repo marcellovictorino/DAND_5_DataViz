{
  "cells": [
    {
      "metadata": {},
      "cell_type": "markdown",
      "source": "# Ford Go Bike 2017-2019\n## by Marcello Victorino\n*03/06/2019*\n\n## Dataset Introduction and Prior Wrangling\n"
    },
    {
      "metadata": {},
      "cell_type": "markdown",
      "source": "# TODO\n> Brief dataset introduction and wrnagling performed.\nA little more detailed than the README file"
    },
    {
      "metadata": {
        "trusted": true
      },
      "cell_type": "code",
      "source": "# import all packages and set plots to be embedded inline\nimport numpy as np\nimport pandas as pd\nimport matplotlib.pyplot as plt\nimport seaborn as sns\n\n%matplotlib inline",
      "execution_count": 1,
      "outputs": []
    },
    {
      "metadata": {
        "trusted": true
      },
      "cell_type": "code",
      "source": "# Load the data\ndf = pd.read_csv('Clean_FordGoBike_2017.csv')\ndf.head()",
      "execution_count": 2,
      "outputs": [
        {
          "output_type": "execute_result",
          "execution_count": 2,
          "data": {
            "text/html": "<div>\n<style scoped>\n    .dataframe tbody tr th:only-of-type {\n        vertical-align: middle;\n    }\n\n    .dataframe tbody tr th {\n        vertical-align: top;\n    }\n\n    .dataframe thead th {\n        text-align: right;\n    }\n</style>\n<table border=\"1\" class=\"dataframe\">\n  <thead>\n    <tr style=\"text-align: right;\">\n      <th></th>\n      <th>bike_id</th>\n      <th>end_station_id</th>\n      <th>end_station_latitude</th>\n      <th>end_station_longitude</th>\n      <th>start_station_id</th>\n      <th>start_station_latitude</th>\n      <th>start_station_longitude</th>\n      <th>start_time</th>\n      <th>low_income_trip</th>\n      <th>subscriber</th>\n      <th>gender</th>\n      <th>duration_min</th>\n      <th>user_age</th>\n      <th>year</th>\n      <th>month</th>\n      <th>week</th>\n      <th>day</th>\n      <th>weekday</th>\n      <th>hour</th>\n    </tr>\n  </thead>\n  <tbody>\n    <tr>\n      <th>0</th>\n      <td>96</td>\n      <td>43</td>\n      <td>37.778768</td>\n      <td>-122.415929</td>\n      <td>74</td>\n      <td>37.776435</td>\n      <td>-122.426244</td>\n      <td>2017-12-31 16:57:39.654</td>\n      <td>0</td>\n      <td>0</td>\n      <td>1</td>\n      <td>1335.2</td>\n      <td>31</td>\n      <td>2017</td>\n      <td>12</td>\n      <td>52</td>\n      <td>31</td>\n      <td>6</td>\n      <td>16</td>\n    </tr>\n    <tr>\n      <th>1</th>\n      <td>88</td>\n      <td>96</td>\n      <td>37.766210</td>\n      <td>-122.426614</td>\n      <td>284</td>\n      <td>37.784872</td>\n      <td>-122.400876</td>\n      <td>2017-12-31 15:56:34.842</td>\n      <td>0</td>\n      <td>0</td>\n      <td>0</td>\n      <td>1313.3</td>\n      <td>53</td>\n      <td>2017</td>\n      <td>12</td>\n      <td>52</td>\n      <td>31</td>\n      <td>6</td>\n      <td>15</td>\n    </tr>\n    <tr>\n      <th>2</th>\n      <td>3167</td>\n      <td>247</td>\n      <td>37.867789</td>\n      <td>-122.265896</td>\n      <td>239</td>\n      <td>37.868813</td>\n      <td>-122.258764</td>\n      <td>2017-12-31 14:23:14.001</td>\n      <td>0</td>\n      <td>1</td>\n      <td>0</td>\n      <td>726.7</td>\n      <td>21</td>\n      <td>2017</td>\n      <td>12</td>\n      <td>52</td>\n      <td>31</td>\n      <td>6</td>\n      <td>14</td>\n    </tr>\n    <tr>\n      <th>3</th>\n      <td>3539</td>\n      <td>259</td>\n      <td>37.866249</td>\n      <td>-122.299371</td>\n      <td>259</td>\n      <td>37.866249</td>\n      <td>-122.299371</td>\n      <td>2017-12-31 23:49:28.422</td>\n      <td>0</td>\n      <td>0</td>\n      <td>0</td>\n      <td>75.1</td>\n      <td>27</td>\n      <td>2017</td>\n      <td>12</td>\n      <td>52</td>\n      <td>31</td>\n      <td>6</td>\n      <td>23</td>\n    </tr>\n    <tr>\n      <th>4</th>\n      <td>2311</td>\n      <td>24</td>\n      <td>37.789677</td>\n      <td>-122.390428</td>\n      <td>67</td>\n      <td>37.776639</td>\n      <td>-122.395526</td>\n      <td>2017-12-31 23:52:55.581</td>\n      <td>0</td>\n      <td>1</td>\n      <td>1</td>\n      <td>36.4</td>\n      <td>28</td>\n      <td>2017</td>\n      <td>12</td>\n      <td>52</td>\n      <td>31</td>\n      <td>6</td>\n      <td>23</td>\n    </tr>\n  </tbody>\n</table>\n</div>",
            "text/plain": "   bike_id  end_station_id  end_station_latitude  end_station_longitude  \\\n0       96              43             37.778768            -122.415929   \n1       88              96             37.766210            -122.426614   \n2     3167             247             37.867789            -122.265896   \n3     3539             259             37.866249            -122.299371   \n4     2311              24             37.789677            -122.390428   \n\n   start_station_id  start_station_latitude  start_station_longitude  \\\n0                74               37.776435              -122.426244   \n1               284               37.784872              -122.400876   \n2               239               37.868813              -122.258764   \n3               259               37.866249              -122.299371   \n4                67               37.776639              -122.395526   \n\n                start_time  low_income_trip  subscriber  gender  duration_min  \\\n0  2017-12-31 16:57:39.654                0           0       1        1335.2   \n1  2017-12-31 15:56:34.842                0           0       0        1313.3   \n2  2017-12-31 14:23:14.001                0           1       0         726.7   \n3  2017-12-31 23:49:28.422                0           0       0          75.1   \n4  2017-12-31 23:52:55.581                0           1       1          36.4   \n\n   user_age  year  month  week  day  weekday  hour  \n0        31  2017     12    52   31        6    16  \n1        53  2017     12    52   31        6    15  \n2        21  2017     12    52   31        6    14  \n3        27  2017     12    52   31        6    23  \n4        28  2017     12    52   31        6    23  "
          },
          "metadata": {}
        }
      ]
    },
    {
      "metadata": {},
      "cell_type": "markdown",
      "source": "Since the data has already been wrangled, we can now start working on the Exploratory Data Analysis, tackling it in a procedural manner:\n1. **Dataset Structure**: Integrity Check, no missing data, no duplicates, appropriate data types etc.\n2. **Univariate Analysis**: investigate each variable distribution, flagging possible outliers and/or need for transformations\n3. **Correlation Matrix**: identify pair of variables highly correlated ($Pearson's R \\geq 0.70$)\n4. **Bivariate Analysis**: investigate pair-wise relationship among variables to identify interesting - and possibly not so obvious - patterns\n5. **Multivariate Analysis**: investigate pair-wise relationship against one (or more) main variable of interest\n\nOnce completed, we should be able to uncover some interesting insights worth sharing with others.\n\nThis process requires some final polishing to make sure our visualization has the appropriate encodings and convey the message we want to communicate."
    },
    {
      "metadata": {},
      "cell_type": "markdown",
      "source": "## Dataset Structure"
    },
    {
      "metadata": {
        "trusted": true
      },
      "cell_type": "code",
      "source": "df.shape",
      "execution_count": 3,
      "outputs": [
        {
          "output_type": "execute_result",
          "execution_count": 3,
          "data": {
            "text/plain": "(453159, 19)"
          },
          "metadata": {}
        }
      ]
    },
    {
      "metadata": {},
      "cell_type": "markdown",
      "source": "The dataset contains over 3 million rows and 19 columns, of which: \n+ 8 are numerical\n+ 3 are string/nominal\n+ 4 are positional (lat/long)\n+ 3 are categorical (binary)\n+ 1 is datetime"
    },
    {
      "metadata": {
        "trusted": true
      },
      "cell_type": "code",
      "source": "# Strings\nto_string = ['bike_id', 'end_station_id', 'start_station_id']\nfor col in to_string:\n    df[f'{col}'] = df[f'{col}'].astype(str)\n\n# Date-time\ndf.start_time = pd.to_datetime(df.start_time)",
      "execution_count": 4,
      "outputs": []
    },
    {
      "metadata": {},
      "cell_type": "markdown",
      "source": "For efficiency purpose, since we are only working with small numbers, let's also transform the numerical variables into their lighter version:"
    },
    {
      "metadata": {
        "trusted": true
      },
      "cell_type": "code",
      "source": "# Float 32\nto_float32 = ['end_station_latitude', 'end_station_longitude', 'start_station_latitude', 'start_station_longitude', 'duration_min']\nfor col in to_float32:\n    df[f'{col}'] = df[f'{col}'].astype(np.float32)\n    \n# Integer32\nto_int = ['low_income_trip', 'subscriber', 'gender', 'user_age', 'year', 'month', 'week', 'day', 'weekday', 'hour']\nfor col in to_int:\n    df[f'{col}'] = df[f'{col}'].astype(np.int32)",
      "execution_count": 5,
      "outputs": []
    },
    {
      "metadata": {
        "trusted": true
      },
      "cell_type": "code",
      "source": "df.info()",
      "execution_count": 6,
      "outputs": [
        {
          "output_type": "stream",
          "text": "<class 'pandas.core.frame.DataFrame'>\nRangeIndex: 453159 entries, 0 to 453158\nData columns (total 19 columns):\nbike_id                    453159 non-null object\nend_station_id             453159 non-null object\nend_station_latitude       453159 non-null float32\nend_station_longitude      453159 non-null float32\nstart_station_id           453159 non-null object\nstart_station_latitude     453159 non-null float32\nstart_station_longitude    453159 non-null float32\nstart_time                 453159 non-null datetime64[ns]\nlow_income_trip            453159 non-null int32\nsubscriber                 453159 non-null int32\ngender                     453159 non-null int32\nduration_min               453159 non-null float32\nuser_age                   453159 non-null int32\nyear                       453159 non-null int32\nmonth                      453159 non-null int32\nweek                       453159 non-null int32\nday                        453159 non-null int32\nweekday                    453159 non-null int32\nhour                       453159 non-null int32\ndtypes: datetime64[ns](1), float32(5), int32(10), object(3)\nmemory usage: 39.8+ MB\n",
          "name": "stdout"
        }
      ]
    },
    {
      "metadata": {
        "trusted": true
      },
      "cell_type": "code",
      "source": "df.isnull().sum()",
      "execution_count": 7,
      "outputs": [
        {
          "output_type": "execute_result",
          "execution_count": 7,
          "data": {
            "text/plain": "bike_id                    0\nend_station_id             0\nend_station_latitude       0\nend_station_longitude      0\nstart_station_id           0\nstart_station_latitude     0\nstart_station_longitude    0\nstart_time                 0\nlow_income_trip            0\nsubscriber                 0\ngender                     0\nduration_min               0\nuser_age                   0\nyear                       0\nmonth                      0\nweek                       0\nday                        0\nweekday                    0\nhour                       0\ndtype: int64"
          },
          "metadata": {}
        }
      ]
    },
    {
      "metadata": {
        "trusted": true
      },
      "cell_type": "code",
      "source": "df.duplicated().sum()",
      "execution_count": 8,
      "outputs": [
        {
          "output_type": "execute_result",
          "execution_count": 8,
          "data": {
            "text/plain": "0"
          },
          "metadata": {}
        }
      ]
    },
    {
      "metadata": {},
      "cell_type": "markdown",
      "source": "There are no duplicates or missing values.\n\nLet's perform some sanity check on the values:"
    },
    {
      "metadata": {
        "scrolled": true,
        "trusted": true
      },
      "cell_type": "code",
      "source": "pd.options.display.float_format = '{:,.2f}'.format\ndf.describe()",
      "execution_count": 9,
      "outputs": [
        {
          "output_type": "execute_result",
          "execution_count": 9,
          "data": {
            "text/html": "<div>\n<style scoped>\n    .dataframe tbody tr th:only-of-type {\n        vertical-align: middle;\n    }\n\n    .dataframe tbody tr th {\n        vertical-align: top;\n    }\n\n    .dataframe thead th {\n        text-align: right;\n    }\n</style>\n<table border=\"1\" class=\"dataframe\">\n  <thead>\n    <tr style=\"text-align: right;\">\n      <th></th>\n      <th>end_station_latitude</th>\n      <th>end_station_longitude</th>\n      <th>start_station_latitude</th>\n      <th>start_station_longitude</th>\n      <th>low_income_trip</th>\n      <th>subscriber</th>\n      <th>gender</th>\n      <th>duration_min</th>\n      <th>user_age</th>\n      <th>year</th>\n      <th>month</th>\n      <th>week</th>\n      <th>day</th>\n      <th>weekday</th>\n      <th>hour</th>\n    </tr>\n  </thead>\n  <tbody>\n    <tr>\n      <th>count</th>\n      <td>453,159.00</td>\n      <td>453,159.00</td>\n      <td>453,159.00</td>\n      <td>453,159.00</td>\n      <td>453,159.00</td>\n      <td>453,159.00</td>\n      <td>453,159.00</td>\n      <td>453,159.00</td>\n      <td>453,159.00</td>\n      <td>453,159.00</td>\n      <td>453,159.00</td>\n      <td>453,159.00</td>\n      <td>453,159.00</td>\n      <td>453,159.00</td>\n      <td>453,159.00</td>\n    </tr>\n    <tr>\n      <th>mean</th>\n      <td>37.92</td>\n      <td>-122.81</td>\n      <td>37.92</td>\n      <td>-122.81</td>\n      <td>0.00</td>\n      <td>0.89</td>\n      <td>0.77</td>\n      <td>13.88</td>\n      <td>36.60</td>\n      <td>2,017.00</td>\n      <td>9.78</td>\n      <td>40.68</td>\n      <td>15.87</td>\n      <td>2.52</td>\n      <td>13.39</td>\n    </tr>\n    <tr>\n      <th>std</th>\n      <td>0.17</td>\n      <td>0.46</td>\n      <td>0.17</td>\n      <td>0.46</td>\n      <td>0.00</td>\n      <td>0.31</td>\n      <td>0.42</td>\n      <td>42.08</td>\n      <td>10.51</td>\n      <td>0.00</td>\n      <td>1.56</td>\n      <td>6.70</td>\n      <td>8.81</td>\n      <td>1.80</td>\n      <td>4.67</td>\n    </tr>\n    <tr>\n      <th>min</th>\n      <td>37.32</td>\n      <td>-122.44</td>\n      <td>37.32</td>\n      <td>-122.44</td>\n      <td>0.00</td>\n      <td>0.00</td>\n      <td>0.00</td>\n      <td>1.00</td>\n      <td>18.00</td>\n      <td>2,017.00</td>\n      <td>6.00</td>\n      <td>26.00</td>\n      <td>1.00</td>\n      <td>0.00</td>\n      <td>0.00</td>\n    </tr>\n    <tr>\n      <th>25%</th>\n      <td>37.77</td>\n      <td>-122.41</td>\n      <td>37.77</td>\n      <td>-122.41</td>\n      <td>0.00</td>\n      <td>1.00</td>\n      <td>1.00</td>\n      <td>6.10</td>\n      <td>29.00</td>\n      <td>2,017.00</td>\n      <td>9.00</td>\n      <td>35.00</td>\n      <td>8.00</td>\n      <td>1.00</td>\n      <td>9.00</td>\n    </tr>\n    <tr>\n      <th>50%</th>\n      <td>37.78</td>\n      <td>-122.40</td>\n      <td>37.78</td>\n      <td>-122.40</td>\n      <td>0.00</td>\n      <td>1.00</td>\n      <td>1.00</td>\n      <td>9.30</td>\n      <td>34.00</td>\n      <td>2,017.00</td>\n      <td>10.00</td>\n      <td>41.00</td>\n      <td>16.00</td>\n      <td>2.00</td>\n      <td>14.00</td>\n    </tr>\n    <tr>\n      <th>75%</th>\n      <td>37.80</td>\n      <td>-122.39</td>\n      <td>37.80</td>\n      <td>-122.39</td>\n      <td>0.00</td>\n      <td>1.00</td>\n      <td>1.00</td>\n      <td>14.00</td>\n      <td>43.00</td>\n      <td>2,017.00</td>\n      <td>11.00</td>\n      <td>46.00</td>\n      <td>23.00</td>\n      <td>4.00</td>\n      <td>17.00</td>\n    </tr>\n    <tr>\n      <th>max</th>\n      <td>37.88</td>\n      <td>-121.87</td>\n      <td>37.88</td>\n      <td>-121.87</td>\n      <td>0.00</td>\n      <td>1.00</td>\n      <td>1.00</td>\n      <td>1,437.50</td>\n      <td>131.00</td>\n      <td>2,017.00</td>\n      <td>12.00</td>\n      <td>52.00</td>\n      <td>31.00</td>\n      <td>6.00</td>\n      <td>23.00</td>\n    </tr>\n  </tbody>\n</table>\n</div>",
            "text/plain": "       end_station_latitude  end_station_longitude  start_station_latitude  \\\ncount            453,159.00             453,159.00              453,159.00   \nmean                  37.92                -122.81                   37.92   \nstd                    0.17                   0.46                    0.17   \nmin                   37.32                -122.44                   37.32   \n25%                   37.77                -122.41                   37.77   \n50%                   37.78                -122.40                   37.78   \n75%                   37.80                -122.39                   37.80   \nmax                   37.88                -121.87                   37.88   \n\n       start_station_longitude  low_income_trip  subscriber     gender  \\\ncount               453,159.00       453,159.00  453,159.00 453,159.00   \nmean                   -122.81             0.00        0.89       0.77   \nstd                       0.46             0.00        0.31       0.42   \nmin                    -122.44             0.00        0.00       0.00   \n25%                    -122.41             0.00        1.00       1.00   \n50%                    -122.40             0.00        1.00       1.00   \n75%                    -122.39             0.00        1.00       1.00   \nmax                    -121.87             0.00        1.00       1.00   \n\n       duration_min   user_age       year      month       week        day  \\\ncount    453,159.00 453,159.00 453,159.00 453,159.00 453,159.00 453,159.00   \nmean          13.88      36.60   2,017.00       9.78      40.68      15.87   \nstd           42.08      10.51       0.00       1.56       6.70       8.81   \nmin            1.00      18.00   2,017.00       6.00      26.00       1.00   \n25%            6.10      29.00   2,017.00       9.00      35.00       8.00   \n50%            9.30      34.00   2,017.00      10.00      41.00      16.00   \n75%           14.00      43.00   2,017.00      11.00      46.00      23.00   \nmax        1,437.50     131.00   2,017.00      12.00      52.00      31.00   \n\n         weekday       hour  \ncount 453,159.00 453,159.00  \nmean        2.52      13.39  \nstd         1.80       4.67  \nmin         0.00       0.00  \n25%         1.00       9.00  \n50%         2.00      14.00  \n75%         4.00      17.00  \nmax         6.00      23.00  "
          },
          "metadata": {}
        }
      ]
    },
    {
      "metadata": {},
      "cell_type": "markdown",
      "source": "+ All pairs of latitude and longitude seem coherent with the San Francisco area.\n+ Since we are working only with 2017 data, there is no information for Low Income Trip. Let's drop this column.\n+ Subscriber and Gender: these features represent binary data. All values are between 0 and 1.\n+ User Age: Minimum value is 18 years old - which might be a requirement to register and use the system. But the maximum value of 131 years old seems off and require further investigation.\n+ Trip Duration: Minimum value is 1, probably representing a user that got a bike and decided to swap it for a different one. The maximum value is 1,437, representing almost a full day. Let's further investigate these extreme low/high values\n+ Month: Minimum value is 6 and maximum is 12, meaning there is data from June - December of 2017.\n+ All other date components fields are appropriate"
    },
    {
      "metadata": {
        "trusted": true
      },
      "cell_type": "code",
      "source": "# Drop Low Income Trip column\ndf.drop(columns='low_income_trip', inplace=True)",
      "execution_count": 10,
      "outputs": []
    },
    {
      "metadata": {
        "trusted": true
      },
      "cell_type": "code",
      "source": "# Further investigate maximum user age\nprint(f\"Total of {df.query('user_age > 100').user_age.count()} trips by user > 100 years old\")\n\ndf.query('user_age > 100').user_age.value_counts()",
      "execution_count": 11,
      "outputs": [
        {
          "output_type": "stream",
          "text": "Total of 384 trips by user > 100 years old\n",
          "name": "stdout"
        },
        {
          "output_type": "execute_result",
          "execution_count": 11,
          "data": {
            "text/plain": "115    217\n117    142\n106     12\n110      7\n116      4\n131      2\nName: user_age, dtype: int64"
          },
          "metadata": {}
        }
      ]
    },
    {
      "metadata": {},
      "cell_type": "markdown",
      "source": "Since there are only few records for trips taken by users older than 100 years old, let's go ahead and remove such observations:"
    },
    {
      "metadata": {
        "trusted": true
      },
      "cell_type": "code",
      "source": "df.drop(df.query('user_age > 100').index, inplace=True)",
      "execution_count": 12,
      "outputs": []
    },
    {
      "metadata": {
        "trusted": true
      },
      "cell_type": "code",
      "source": "# Trip Duration: investigating extreme values\ndf.query('duration_min < 2').count()[0]/len(df)",
      "execution_count": 13,
      "outputs": [
        {
          "output_type": "execute_result",
          "execution_count": 13,
          "data": {
            "text/plain": "0.009130362762961737"
          },
          "metadata": {}
        }
      ]
    },
    {
      "metadata": {},
      "cell_type": "markdown",
      "source": "Less than 1% of trips last less than 2 minutes. They probably represent a malfunctioning bicycle that need to be swapped.\nLet's go ahead and remove these trips:"
    },
    {
      "metadata": {
        "trusted": true
      },
      "cell_type": "code",
      "source": "df = df.query('duration_min >= 2')",
      "execution_count": 14,
      "outputs": []
    },
    {
      "metadata": {
        "trusted": true
      },
      "cell_type": "code",
      "source": "# Proportion of trips lasting under 60 minutes\nproportion_under60 = df.query('duration_min <= 60').count()[0]/len(df)\nprint(f'{proportion_under60:.1%} of trips last less than 60 minutes.')",
      "execution_count": 15,
      "outputs": [
        {
          "output_type": "stream",
          "text": "98.8% of trips last less than 60 minutes.\n",
          "name": "stdout"
        }
      ]
    },
    {
      "metadata": {},
      "cell_type": "markdown",
      "source": "Since the vast majority of trips (98.8%) don't last longer than one hour, let's go ahead and keep only observations between 2 and 60 minutes of trip duration:"
    },
    {
      "metadata": {
        "trusted": true
      },
      "cell_type": "code",
      "source": "df = df.query('duration_min >= 2 & duration_min <= 60')",
      "execution_count": 16,
      "outputs": []
    },
    {
      "metadata": {},
      "cell_type": "markdown",
      "source": "Finally, let's use the datetime variable as the index, allowing us to make use of the powerful time-series functions provided by Pandas:"
    },
    {
      "metadata": {
        "trusted": true
      },
      "cell_type": "code",
      "source": "df.set_index(df.start_time, inplace=True)",
      "execution_count": 17,
      "outputs": []
    },
    {
      "metadata": {
        "trusted": true
      },
      "cell_type": "code",
      "source": "df.sort_index(inplace=True)\ndf.head()",
      "execution_count": 18,
      "outputs": [
        {
          "output_type": "execute_result",
          "execution_count": 18,
          "data": {
            "text/html": "<div>\n<style scoped>\n    .dataframe tbody tr th:only-of-type {\n        vertical-align: middle;\n    }\n\n    .dataframe tbody tr th {\n        vertical-align: top;\n    }\n\n    .dataframe thead th {\n        text-align: right;\n    }\n</style>\n<table border=\"1\" class=\"dataframe\">\n  <thead>\n    <tr style=\"text-align: right;\">\n      <th></th>\n      <th>bike_id</th>\n      <th>end_station_id</th>\n      <th>end_station_latitude</th>\n      <th>end_station_longitude</th>\n      <th>start_station_id</th>\n      <th>start_station_latitude</th>\n      <th>start_station_longitude</th>\n      <th>start_time</th>\n      <th>subscriber</th>\n      <th>gender</th>\n      <th>duration_min</th>\n      <th>user_age</th>\n      <th>year</th>\n      <th>month</th>\n      <th>week</th>\n      <th>day</th>\n      <th>weekday</th>\n      <th>hour</th>\n    </tr>\n    <tr>\n      <th>start_time</th>\n      <th></th>\n      <th></th>\n      <th></th>\n      <th></th>\n      <th></th>\n      <th></th>\n      <th></th>\n      <th></th>\n      <th></th>\n      <th></th>\n      <th></th>\n      <th></th>\n      <th></th>\n      <th></th>\n      <th></th>\n      <th></th>\n      <th></th>\n      <th></th>\n    </tr>\n  </thead>\n  <tbody>\n    <tr>\n      <th>2017-06-28 09:47:36.347</th>\n      <td>240</td>\n      <td>48</td>\n      <td>37.78</td>\n      <td>-122.39</td>\n      <td>21</td>\n      <td>37.79</td>\n      <td>-122.40</td>\n      <td>2017-06-28 09:47:36.347</td>\n      <td>1</td>\n      <td>0</td>\n      <td>7.10</td>\n      <td>32</td>\n      <td>2017</td>\n      <td>6</td>\n      <td>26</td>\n      <td>28</td>\n      <td>2</td>\n      <td>9</td>\n    </tr>\n    <tr>\n      <th>2017-06-28 09:47:41.664</th>\n      <td>669</td>\n      <td>59</td>\n      <td>37.77</td>\n      <td>-122.42</td>\n      <td>58</td>\n      <td>37.78</td>\n      <td>-122.42</td>\n      <td>2017-06-28 09:47:41.664</td>\n      <td>1</td>\n      <td>1</td>\n      <td>6.10</td>\n      <td>36</td>\n      <td>2017</td>\n      <td>6</td>\n      <td>26</td>\n      <td>28</td>\n      <td>2</td>\n      <td>9</td>\n    </tr>\n    <tr>\n      <th>2017-06-28 09:49:46.377</th>\n      <td>117</td>\n      <td>48</td>\n      <td>37.78</td>\n      <td>-122.39</td>\n      <td>25</td>\n      <td>37.79</td>\n      <td>-122.40</td>\n      <td>2017-06-28 09:49:46.377</td>\n      <td>1</td>\n      <td>1</td>\n      <td>3.10</td>\n      <td>33</td>\n      <td>2017</td>\n      <td>6</td>\n      <td>26</td>\n      <td>28</td>\n      <td>2</td>\n      <td>9</td>\n    </tr>\n    <tr>\n      <th>2017-06-28 09:50:59.175</th>\n      <td>77</td>\n      <td>9</td>\n      <td>37.80</td>\n      <td>-122.40</td>\n      <td>81</td>\n      <td>37.78</td>\n      <td>-122.39</td>\n      <td>2017-06-28 09:50:59.175</td>\n      <td>1</td>\n      <td>1</td>\n      <td>20.00</td>\n      <td>32</td>\n      <td>2017</td>\n      <td>6</td>\n      <td>26</td>\n      <td>28</td>\n      <td>2</td>\n      <td>9</td>\n    </tr>\n    <tr>\n      <th>2017-06-28 09:56:39.631</th>\n      <td>316</td>\n      <td>321</td>\n      <td>37.78</td>\n      <td>-122.40</td>\n      <td>66</td>\n      <td>37.78</td>\n      <td>-122.39</td>\n      <td>2017-06-28 09:56:39.631</td>\n      <td>1</td>\n      <td>1</td>\n      <td>7.20</td>\n      <td>44</td>\n      <td>2017</td>\n      <td>6</td>\n      <td>26</td>\n      <td>28</td>\n      <td>2</td>\n      <td>9</td>\n    </tr>\n  </tbody>\n</table>\n</div>",
            "text/plain": "                        bike_id end_station_id  end_station_latitude  \\\nstart_time                                                             \n2017-06-28 09:47:36.347     240             48                 37.78   \n2017-06-28 09:47:41.664     669             59                 37.77   \n2017-06-28 09:49:46.377     117             48                 37.78   \n2017-06-28 09:50:59.175      77              9                 37.80   \n2017-06-28 09:56:39.631     316            321                 37.78   \n\n                         end_station_longitude start_station_id  \\\nstart_time                                                        \n2017-06-28 09:47:36.347                -122.39               21   \n2017-06-28 09:47:41.664                -122.42               58   \n2017-06-28 09:49:46.377                -122.39               25   \n2017-06-28 09:50:59.175                -122.40               81   \n2017-06-28 09:56:39.631                -122.40               66   \n\n                         start_station_latitude  start_station_longitude  \\\nstart_time                                                                 \n2017-06-28 09:47:36.347                   37.79                  -122.40   \n2017-06-28 09:47:41.664                   37.78                  -122.42   \n2017-06-28 09:49:46.377                   37.79                  -122.40   \n2017-06-28 09:50:59.175                   37.78                  -122.39   \n2017-06-28 09:56:39.631                   37.78                  -122.39   \n\n                                     start_time  subscriber  gender  \\\nstart_time                                                            \n2017-06-28 09:47:36.347 2017-06-28 09:47:36.347           1       0   \n2017-06-28 09:47:41.664 2017-06-28 09:47:41.664           1       1   \n2017-06-28 09:49:46.377 2017-06-28 09:49:46.377           1       1   \n2017-06-28 09:50:59.175 2017-06-28 09:50:59.175           1       1   \n2017-06-28 09:56:39.631 2017-06-28 09:56:39.631           1       1   \n\n                         duration_min  user_age  year  month  week  day  \\\nstart_time                                                                \n2017-06-28 09:47:36.347          7.10        32  2017      6    26   28   \n2017-06-28 09:47:41.664          6.10        36  2017      6    26   28   \n2017-06-28 09:49:46.377          3.10        33  2017      6    26   28   \n2017-06-28 09:50:59.175         20.00        32  2017      6    26   28   \n2017-06-28 09:56:39.631          7.20        44  2017      6    26   28   \n\n                         weekday  hour  \nstart_time                              \n2017-06-28 09:47:36.347        2     9  \n2017-06-28 09:47:41.664        2     9  \n2017-06-28 09:49:46.377        2     9  \n2017-06-28 09:50:59.175        2     9  \n2017-06-28 09:56:39.631        2     9  "
          },
          "metadata": {}
        }
      ]
    },
    {
      "metadata": {},
      "cell_type": "markdown",
      "source": "## Univariate Exploration\n\n> In this section, investigate distributions of individual variables. If\nyou see unusual points or outliers, take a deeper look to clean things up\nand prepare yourself to look at relationships between variables."
    },
    {
      "metadata": {
        "trusted": true
      },
      "cell_type": "code",
      "source": "def proportion_categorical(variable):\n    g = df[f'{variable}'].value_counts(normalize=True)\n    sns.barplot(x=g.keys(), y=g.values)\n    plt.title(f'Proportion of {str.title(variable)}')\n    plt.ylabel('Proportion [%]');\n    [print(f'Category {x[0]}: {x[1]:.1%}') for x in g.items()];",
      "execution_count": 19,
      "outputs": []
    },
    {
      "metadata": {
        "scrolled": true,
        "trusted": true
      },
      "cell_type": "code",
      "source": "proportion_categorical('subscriber')",
      "execution_count": 20,
      "outputs": [
        {
          "output_type": "stream",
          "text": "Category 1: 89.8%\nCategory 0: 10.2%\n",
          "name": "stdout"
        },
        {
          "output_type": "display_data",
          "data": {
            "image/png": "[encoded data removed]",
            "text/plain": "<Figure size 432x288 with 1 Axes>"
          },
          "metadata": {
            "needs_background": "light"
          }
        }
      ]
    },
    {
      "metadata": {},
      "cell_type": "markdown",
      "source": "Almost 90% of trips were taken by actual subscribers to the Ford Go Bike program."
    },
    {
      "metadata": {
        "trusted": true
      },
      "cell_type": "code",
      "source": "proportion_categorical('gender')",
      "execution_count": 21,
      "outputs": [
        {
          "output_type": "stream",
          "text": "Category 1: 77.0%\nCategory 0: 23.0%\n",
          "name": "stdout"
        },
        {
          "output_type": "display_data",
          "data": {
            "image/png": "[encoded data removed]",
            "text/plain": "<Figure size 432x288 with 1 Axes>"
          },
          "metadata": {
            "needs_background": "light"
          }
        }
      ]
    },
    {
      "metadata": {},
      "cell_type": "markdown",
      "source": "And 77% of the trips were taken by males. \n\nSince we do not have access to the actual distribution of subscribers, we cannot tell if males are more likely to use the bike-rental program or if this higher frequency of trips is due to having more male subscribers."
    },
    {
      "metadata": {
        "trusted": true
      },
      "cell_type": "code",
      "source": "df.query('duration_min <= 60').duration_min.plot(kind='hist', bins=range(1,60,1));\nplt.title('Distribution of Trip Duration')\nplt.xlabel('Trip Duration [min]');",
      "execution_count": 22,
      "outputs": [
        {
          "output_type": "display_data",
          "data": {
            "image/png": "[encoded data removed]",
            "text/plain": "<Figure size 432x288 with 1 Axes>"
          },
          "metadata": {
            "needs_background": "light"
          }
        }
      ]
    },
    {
      "metadata": {},
      "cell_type": "markdown",
      "source": "The trip distribution (in minutes) is highly skewed to the right, even after filtering out trips taking longer than one hour.\n\nLet's transform it into the log10 scale:"
    },
    {
      "metadata": {
        "trusted": true
      },
      "cell_type": "code",
      "source": "log_bins = 10 ** np.arange(0, 2+0.1, 0.1)\n\ndf.query('duration_min <= 60').duration_min.plot(kind='hist', bins=log_bins);\nplt.xscale('log')\nlog_ticks = [1, 3, 10, 30, 100]\nplt.xticks(log_ticks, log_ticks)\nplt.xlabel('Trip duration [min] - log10 scale')\nplt.title('Distribution of Trip Duration (Log Scale)');",
      "execution_count": 23,
      "outputs": [
        {
          "output_type": "display_data",
          "data": {
            "image/png": "[encoded data removed]",
            "text/plain": "<Figure size 432x288 with 1 Axes>"
          },
          "metadata": {
            "needs_background": "light"
          }
        }
      ]
    },
    {
      "metadata": {},
      "cell_type": "markdown",
      "source": "After transforming the trip duration (min) into the log10 scale, the values present a normal-like distribution. "
    },
    {
      "metadata": {
        "trusted": true
      },
      "cell_type": "code",
      "source": "print(df.duration_min.quantile(0.975),'\\n')\n\nprint(df.duration_min.describe())",
      "execution_count": 24,
      "outputs": [
        {
          "output_type": "stream",
          "text": "29.799999237060547 \n\ncount   443,121.00\nmean         11.03\nstd           7.23\nmin           2.00\n25%           6.10\n50%           9.20\n75%          13.80\nmax          60.00\nName: duration_min, dtype: float64\n",
          "name": "stdout"
        }
      ]
    },
    {
      "metadata": {},
      "cell_type": "markdown",
      "source": "97.5% of all trips lasts less than 30 minutes.\n\n**The average trip duration is 11 minutes.**\n\nConsidering the average speed of a bicycle as 15 km/h, which is equivalent to 250 meters per minute, it means within 11 minutes, **the average trip usually travels 2.75 km.**"
    },
    {
      "metadata": {
        "trusted": true
      },
      "cell_type": "code",
      "source": "# Outlier: Tuke's Fence method .:. 1.5 * IQR\nIQR = df.duration_min.quantile(0.75) - df.duration_min.quantile(0.25)\nprint(f'Tukeys Fence: upper threshold is {df.duration_min.mean() + 1.5 * IQR:.1f}')\n\nsns.boxplot(df.duration_min);",
      "execution_count": 33,
      "outputs": [
        {
          "output_type": "stream",
          "text": "Tukeys Fence: upper threshold is 22.6\n",
          "name": "stdout"
        },
        {
          "output_type": "display_data",
          "data": {
            "image/png": "[encoded data removed]",
            "text/plain": "<Figure size 432x288 with 1 Axes>"
          },
          "metadata": {
            "needs_background": "light"
          }
        }
      ]
    },
    {
      "metadata": {},
      "cell_type": "markdown",
      "source": "According to the Tukey's Fence method, any trip lasting longer than 22.5 minutes is considered an outlier. This can be seen in the boxplot above.\n\nEven though the values are extreme when compared to the vast majority of trips, it does not necessarily mean they are invalid observations. In this partiuclar case, we should not remove them."
    },
    {
      "metadata": {
        "trusted": true
      },
      "cell_type": "code",
      "source": "",
      "execution_count": null,
      "outputs": []
    },
    {
      "metadata": {},
      "cell_type": "markdown",
      "source": "# STOPPED HERE"
    },
    {
      "metadata": {
        "trusted": true
      },
      "cell_type": "code",
      "source": "",
      "execution_count": null,
      "outputs": []
    },
    {
      "metadata": {
        "trusted": true
      },
      "cell_type": "code",
      "source": "",
      "execution_count": null,
      "outputs": []
    },
    {
      "metadata": {
        "trusted": true
      },
      "cell_type": "code",
      "source": "",
      "execution_count": null,
      "outputs": []
    },
    {
      "metadata": {
        "trusted": true
      },
      "cell_type": "code",
      "source": "df.user_age.describe()",
      "execution_count": 27,
      "outputs": [
        {
          "output_type": "execute_result",
          "execution_count": 27,
          "data": {
            "text/plain": "count   443,121.00\nmean         36.55\nstd          10.25\nmin          18.00\n25%          29.00\n50%          34.00\n75%          43.00\nmax          93.00\nName: user_age, dtype: float64"
          },
          "metadata": {}
        }
      ]
    },
    {
      "metadata": {},
      "cell_type": "markdown",
      "source": "Further investigate age, since too high value seems to be wrong entry."
    },
    {
      "metadata": {
        "trusted": true
      },
      "cell_type": "code",
      "source": "df.user_age.plot(kind='hist', title='Age distribution');",
      "execution_count": 28,
      "outputs": [
        {
          "output_type": "display_data",
          "data": {
            "image/png": "[encoded data removed]",
            "text/plain": "<Figure size 432x288 with 1 Axes>"
          },
          "metadata": {
            "needs_background": "light"
          }
        }
      ]
    },
    {
      "metadata": {},
      "cell_type": "markdown",
      "source": "> Make sure that, after every plot or related series of plots, that you\ninclude a Markdown cell with comments about what you observed, and what\nyou plan on investigating next."
    },
    {
      "metadata": {
        "trusted": true
      },
      "cell_type": "code",
      "source": "",
      "execution_count": null,
      "outputs": []
    },
    {
      "metadata": {},
      "cell_type": "markdown",
      "source": "### Discuss the distribution(s) of your variable(s) of interest. Were there any unusual points? Did you need to perform any transformations?\n\n> Your answer here!\n\n### Of the features you investigated, were there any unusual distributions? Did you perform any operations on the data to tidy, adjust, or change the form of the data? If so, why did you do this?\n\n> Your answer here!"
    },
    {
      "metadata": {},
      "cell_type": "markdown",
      "source": "## Bivariate Exploration\n\n> In this section, investigate relationships between pairs of variables in your\ndata. Make sure the variables that you cover here have been introduced in some\nfashion in the previous section (univariate exploration)."
    },
    {
      "metadata": {
        "trusted": true
      },
      "cell_type": "code",
      "source": "",
      "execution_count": null,
      "outputs": []
    },
    {
      "metadata": {},
      "cell_type": "markdown",
      "source": "### Talk about some of the relationships you observed in this part of the investigation. How did the feature(s) of interest vary with other features in the dataset?\n\n> Your answer here!\n\n### Did you observe any interesting relationships between the other features (not the main feature(s) of interest)?\n\n> Your answer here!"
    },
    {
      "metadata": {},
      "cell_type": "markdown",
      "source": "## Multivariate Exploration\n\n> Create plots of three or more variables to investigate your data even\nfurther. Make sure that your investigations are justified, and follow from\nyour work in the previous sections."
    },
    {
      "metadata": {},
      "cell_type": "markdown",
      "source": "Let's further investigate the distribution of trip duration, stratifying by gender and subscriber:"
    },
    {
      "metadata": {
        "trusted": true
      },
      "cell_type": "code",
      "source": "sns.violinplot(data=df, y='duration_min', x='subscriber', hue='gender', split=True, orient='v', inner='quartile',\n              hue_order=[1,0]);\nplt.title('Distribution of Trip Duration by Subscriber and Gender');",
      "execution_count": 26,
      "outputs": [
        {
          "output_type": "display_data",
          "data": {
            "image/png": "[encoded data removed]",
            "text/plain": "<Figure size 432x288 with 1 Axes>"
          },
          "metadata": {
            "needs_background": "light"
          }
        }
      ]
    },
    {
      "metadata": {},
      "cell_type": "markdown",
      "source": "### INSIGHT\nEven though subscribers have access to unlimited 45-minutes trips, looks like their trips are typically shorter than Non-subscribers. \n\nThis could be explained due to the fact that subscribers usually take the bike for mobility purpose (trip as a mean of transportation), whereas occasional users could represent tourists using the bike for leisure and getting to know the city.\n\nInterestingly, females seems to ride for slighter longer duration than males, for both subscribers and non-subscribers."
    },
    {
      "metadata": {
        "trusted": true
      },
      "cell_type": "code",
      "source": "",
      "execution_count": null,
      "outputs": []
    },
    {
      "metadata": {},
      "cell_type": "markdown",
      "source": "### Talk about some of the relationships you observed in this part of the investigation. Were there features that strengthened each other in terms of looking at your feature(s) of interest?\n\n> Your answer here!\n\n### Were there any interesting or surprising interactions between features?\n\n> Your answer here!"
    },
    {
      "metadata": {},
      "cell_type": "markdown",
      "source": "> At the end of your report, make sure that you export the notebook as an\nhtml file from the `File > Download as... > HTML` menu. Make sure you keep\ntrack of where the exported file goes, so you can put it in the same folder\nas this notebook for project submission. Also, make sure you remove all of\nthe quote-formatted guide notes like this one before you finish your report!"
    },
    {
      "metadata": {
        "trusted": true
      },
      "cell_type": "code",
      "source": "",
      "execution_count": null,
      "outputs": []
    }
  ],
  "metadata": {
    "kernelspec": {
      "name": "python36",
      "display_name": "Python 3.6",
      "language": "python"
    },
    "language_info": {
      "mimetype": "text/x-python",
      "nbconvert_exporter": "python",
      "name": "python",
      "pygments_lexer": "ipython3",
      "version": "3.6.6",
      "file_extension": ".py",
      "codemirror_mode": {
        "version": 3,
        "name": "ipython"
      }
    },
    "varInspector": {
      "cols": {
        "lenName": 16,
        "lenType": 16,
        "lenVar": 40
      },
      "kernels_config": {
        "python": {
          "delete_cmd_postfix": "",
          "delete_cmd_prefix": "del ",
          "library": "var_list.py",
          "varRefreshCmd": "print(var_dic_list())"
        },
        "r": {
          "delete_cmd_postfix": ") ",
          "delete_cmd_prefix": "rm(",
          "library": "var_list.r",
          "varRefreshCmd": "cat(var_dic_list()) "
        }
      },
      "types_to_exclude": [
        "module",
        "function",
        "builtin_function_or_method",
        "instance",
        "_Feature"
      ],
      "window_display": false
    }
  },
  "nbformat": 4,
  "nbformat_minor": 2
}