{
 "cells": [
  {
   "cell_type": "markdown",
   "metadata": {},
   "source": [
    "# Ford Go Bike 2017-2019\n",
    "## by Marcello Victorino\n",
    "*03/06/2019*\n",
    "\n",
    "## Dataset Introduction and Prior Wrangling\n"
   ]
  },
  {
   "cell_type": "markdown",
   "metadata": {},
   "source": [
    "# TODO\n",
    "> Brief dataset introduction and wrnagling performed.\n",
    "A little more detailed than the README file"
   ]
  },
  {
   "cell_type": "code",
   "execution_count": 20,
   "metadata": {},
   "outputs": [],
   "source": [
    "# import all packages and set plots to be embedded inline\n",
    "import numpy as np\n",
    "import pandas as pd\n",
    "import matplotlib.pyplot as plt\n",
    "import seaborn as sns\n",
    "\n",
    "%matplotlib inline"
   ]
  },
  {
   "cell_type": "code",
   "execution_count": 21,
   "metadata": {},
   "outputs": [
    {
     "data": {
      "text/html": [
       "<div>\n",
       "<style scoped>\n",
       "    .dataframe tbody tr th:only-of-type {\n",
       "        vertical-align: middle;\n",
       "    }\n",
       "\n",
       "    .dataframe tbody tr th {\n",
       "        vertical-align: top;\n",
       "    }\n",
       "\n",
       "    .dataframe thead th {\n",
       "        text-align: right;\n",
       "    }\n",
       "</style>\n",
       "<table border=\"1\" class=\"dataframe\">\n",
       "  <thead>\n",
       "    <tr style=\"text-align: right;\">\n",
       "      <th></th>\n",
       "      <th>bike_id</th>\n",
       "      <th>end_station_id</th>\n",
       "      <th>end_station_latitude</th>\n",
       "      <th>end_station_longitude</th>\n",
       "      <th>start_station_id</th>\n",
       "      <th>start_station_latitude</th>\n",
       "      <th>start_station_longitude</th>\n",
       "      <th>start_time</th>\n",
       "      <th>low_income_trip</th>\n",
       "      <th>subscriber</th>\n",
       "      <th>gender</th>\n",
       "      <th>duration_min</th>\n",
       "      <th>user_age</th>\n",
       "      <th>year</th>\n",
       "      <th>month</th>\n",
       "      <th>week</th>\n",
       "      <th>day</th>\n",
       "      <th>weekday</th>\n",
       "      <th>hour</th>\n",
       "    </tr>\n",
       "  </thead>\n",
       "  <tbody>\n",
       "    <tr>\n",
       "      <th>0</th>\n",
       "      <td>96</td>\n",
       "      <td>43</td>\n",
       "      <td>37.78</td>\n",
       "      <td>-122.42</td>\n",
       "      <td>74</td>\n",
       "      <td>37.78</td>\n",
       "      <td>-122.43</td>\n",
       "      <td>2017-12-31 16:57:39.654</td>\n",
       "      <td>0</td>\n",
       "      <td>0</td>\n",
       "      <td>1</td>\n",
       "      <td>1,335.20</td>\n",
       "      <td>31</td>\n",
       "      <td>2017</td>\n",
       "      <td>12</td>\n",
       "      <td>52</td>\n",
       "      <td>31</td>\n",
       "      <td>6</td>\n",
       "      <td>16</td>\n",
       "    </tr>\n",
       "    <tr>\n",
       "      <th>1</th>\n",
       "      <td>88</td>\n",
       "      <td>96</td>\n",
       "      <td>37.77</td>\n",
       "      <td>-122.43</td>\n",
       "      <td>284</td>\n",
       "      <td>37.78</td>\n",
       "      <td>-122.40</td>\n",
       "      <td>2017-12-31 15:56:34.842</td>\n",
       "      <td>0</td>\n",
       "      <td>0</td>\n",
       "      <td>0</td>\n",
       "      <td>1,313.30</td>\n",
       "      <td>53</td>\n",
       "      <td>2017</td>\n",
       "      <td>12</td>\n",
       "      <td>52</td>\n",
       "      <td>31</td>\n",
       "      <td>6</td>\n",
       "      <td>15</td>\n",
       "    </tr>\n",
       "    <tr>\n",
       "      <th>2</th>\n",
       "      <td>3167</td>\n",
       "      <td>247</td>\n",
       "      <td>37.87</td>\n",
       "      <td>-122.27</td>\n",
       "      <td>239</td>\n",
       "      <td>37.87</td>\n",
       "      <td>-122.26</td>\n",
       "      <td>2017-12-31 14:23:14.001</td>\n",
       "      <td>0</td>\n",
       "      <td>1</td>\n",
       "      <td>0</td>\n",
       "      <td>726.70</td>\n",
       "      <td>21</td>\n",
       "      <td>2017</td>\n",
       "      <td>12</td>\n",
       "      <td>52</td>\n",
       "      <td>31</td>\n",
       "      <td>6</td>\n",
       "      <td>14</td>\n",
       "    </tr>\n",
       "    <tr>\n",
       "      <th>3</th>\n",
       "      <td>3539</td>\n",
       "      <td>259</td>\n",
       "      <td>37.87</td>\n",
       "      <td>-122.30</td>\n",
       "      <td>259</td>\n",
       "      <td>37.87</td>\n",
       "      <td>-122.30</td>\n",
       "      <td>2017-12-31 23:49:28.422</td>\n",
       "      <td>0</td>\n",
       "      <td>0</td>\n",
       "      <td>0</td>\n",
       "      <td>75.10</td>\n",
       "      <td>27</td>\n",
       "      <td>2017</td>\n",
       "      <td>12</td>\n",
       "      <td>52</td>\n",
       "      <td>31</td>\n",
       "      <td>6</td>\n",
       "      <td>23</td>\n",
       "    </tr>\n",
       "    <tr>\n",
       "      <th>4</th>\n",
       "      <td>2311</td>\n",
       "      <td>24</td>\n",
       "      <td>37.79</td>\n",
       "      <td>-122.39</td>\n",
       "      <td>67</td>\n",
       "      <td>37.78</td>\n",
       "      <td>-122.40</td>\n",
       "      <td>2017-12-31 23:52:55.581</td>\n",
       "      <td>0</td>\n",
       "      <td>1</td>\n",
       "      <td>1</td>\n",
       "      <td>36.40</td>\n",
       "      <td>28</td>\n",
       "      <td>2017</td>\n",
       "      <td>12</td>\n",
       "      <td>52</td>\n",
       "      <td>31</td>\n",
       "      <td>6</td>\n",
       "      <td>23</td>\n",
       "    </tr>\n",
       "  </tbody>\n",
       "</table>\n",
       "</div>"
      ],
      "text/plain": [
       "   bike_id  end_station_id  end_station_latitude  end_station_longitude  \\\n",
       "0       96              43                 37.78                -122.42   \n",
       "1       88              96                 37.77                -122.43   \n",
       "2     3167             247                 37.87                -122.27   \n",
       "3     3539             259                 37.87                -122.30   \n",
       "4     2311              24                 37.79                -122.39   \n",
       "\n",
       "   start_station_id  start_station_latitude  start_station_longitude  \\\n",
       "0                74                   37.78                  -122.43   \n",
       "1               284                   37.78                  -122.40   \n",
       "2               239                   37.87                  -122.26   \n",
       "3               259                   37.87                  -122.30   \n",
       "4                67                   37.78                  -122.40   \n",
       "\n",
       "                start_time  low_income_trip  subscriber  gender  duration_min  \\\n",
       "0  2017-12-31 16:57:39.654                0           0       1      1,335.20   \n",
       "1  2017-12-31 15:56:34.842                0           0       0      1,313.30   \n",
       "2  2017-12-31 14:23:14.001                0           1       0        726.70   \n",
       "3  2017-12-31 23:49:28.422                0           0       0         75.10   \n",
       "4  2017-12-31 23:52:55.581                0           1       1         36.40   \n",
       "\n",
       "   user_age  year  month  week  day  weekday  hour  \n",
       "0        31  2017     12    52   31        6    16  \n",
       "1        53  2017     12    52   31        6    15  \n",
       "2        21  2017     12    52   31        6    14  \n",
       "3        27  2017     12    52   31        6    23  \n",
       "4        28  2017     12    52   31        6    23  "
      ]
     },
     "execution_count": 21,
     "metadata": {},
     "output_type": "execute_result"
    }
   ],
   "source": [
    "# Load the data\n",
    "df = pd.read_csv('Clean_FordGoBike_2017.csv')\n",
    "df.head()"
   ]
  },
  {
   "cell_type": "markdown",
   "metadata": {},
   "source": [
    "Since the data has already been wrangled, we can now start working on the Exploratory Data Analysis, tackling it in a procedural manner:\n",
    "1. **Dataset Structure**: Integrity Check, no missing data, no duplicates, appropriate data types etc.\n",
    "2. **Univariate Analysis**: investigate each variable distribution, flagging possible outliers and/or need for transformations\n",
    "3. **Correlation Matrix**: identify pair of variables highly correlated ($Pearson's R \\geq 0.70$)\n",
    "4. **Bivariate Analysis**: investigate pair-wise relationship among variables to identify interesting - and possibly not so obvious - patterns\n",
    "5. **Multivariate Analysis**: investigate pair-wise relationship against one (or more) main variable of interest\n",
    "\n",
    "Once completed, we should be able to uncover some interesting insights worth sharing with others.\n",
    "\n",
    "This process requires some final polishing to make sure our visualization has the appropriate encodings and convey the message we want to communicate."
   ]
  },
  {
   "cell_type": "markdown",
   "metadata": {},
   "source": [
    "## Dataset Structure"
   ]
  },
  {
   "cell_type": "code",
   "execution_count": 22,
   "metadata": {},
   "outputs": [
    {
     "data": {
      "text/plain": [
       "(453159, 19)"
      ]
     },
     "execution_count": 22,
     "metadata": {},
     "output_type": "execute_result"
    }
   ],
   "source": [
    "df.shape"
   ]
  },
  {
   "cell_type": "markdown",
   "metadata": {},
   "source": [
    "The dataset contains over 3 million rows and 19 columns, of which: \n",
    "+ 8 are numerical\n",
    "+ 3 are string/nominal\n",
    "+ 4 are positional (lat/long)\n",
    "+ 3 are categorical (binary)\n",
    "+ 1 is datetime"
   ]
  },
  {
   "cell_type": "code",
   "execution_count": 23,
   "metadata": {},
   "outputs": [],
   "source": [
    "# Strings\n",
    "to_string = ['bike_id', 'end_station_id', 'start_station_id']\n",
    "for col in to_string:\n",
    "    df[f'{col}'] = df[f'{col}'].astype(str)\n",
    "\n",
    "# Date-time\n",
    "df.start_time = pd.to_datetime(df.start_time)"
   ]
  },
  {
   "cell_type": "markdown",
   "metadata": {},
   "source": [
    "For efficiency purpose, since we are only working with small numbers, let's also transform the numerical variables into their lighter version:"
   ]
  },
  {
   "cell_type": "code",
   "execution_count": 24,
   "metadata": {},
   "outputs": [],
   "source": [
    "# Float 32\n",
    "to_float32 = ['end_station_latitude', 'end_station_longitude', 'start_station_latitude', 'start_station_longitude', 'duration_min']\n",
    "for col in to_float32:\n",
    "    df[f'{col}'] = df[f'{col}'].astype(np.float32)\n",
    "    \n",
    "# Integer32\n",
    "to_int = ['low_income_trip', 'subscriber', 'gender', 'user_age', 'year', 'month', 'week', 'day', 'weekday', 'hour']\n",
    "for col in to_int:\n",
    "    df[f'{col}'] = df[f'{col}'].astype(np.int32)"
   ]
  },
  {
   "cell_type": "code",
   "execution_count": 25,
   "metadata": {},
   "outputs": [
    {
     "name": "stdout",
     "output_type": "stream",
     "text": [
      "<class 'pandas.core.frame.DataFrame'>\n",
      "RangeIndex: 453159 entries, 0 to 453158\n",
      "Data columns (total 19 columns):\n",
      "bike_id                    453159 non-null object\n",
      "end_station_id             453159 non-null object\n",
      "end_station_latitude       453159 non-null float32\n",
      "end_station_longitude      453159 non-null float32\n",
      "start_station_id           453159 non-null object\n",
      "start_station_latitude     453159 non-null float32\n",
      "start_station_longitude    453159 non-null float32\n",
      "start_time                 453159 non-null datetime64[ns]\n",
      "low_income_trip            453159 non-null int32\n",
      "subscriber                 453159 non-null int32\n",
      "gender                     453159 non-null int32\n",
      "duration_min               453159 non-null float32\n",
      "user_age                   453159 non-null int32\n",
      "year                       453159 non-null int32\n",
      "month                      453159 non-null int32\n",
      "week                       453159 non-null int32\n",
      "day                        453159 non-null int32\n",
      "weekday                    453159 non-null int32\n",
      "hour                       453159 non-null int32\n",
      "dtypes: datetime64[ns](1), float32(5), int32(10), object(3)\n",
      "memory usage: 39.8+ MB\n"
     ]
    }
   ],
   "source": [
    "df.info()"
   ]
  },
  {
   "cell_type": "code",
   "execution_count": 26,
   "metadata": {},
   "outputs": [
    {
     "data": {
      "text/plain": [
       "bike_id                    0\n",
       "end_station_id             0\n",
       "end_station_latitude       0\n",
       "end_station_longitude      0\n",
       "start_station_id           0\n",
       "start_station_latitude     0\n",
       "start_station_longitude    0\n",
       "start_time                 0\n",
       "low_income_trip            0\n",
       "subscriber                 0\n",
       "gender                     0\n",
       "duration_min               0\n",
       "user_age                   0\n",
       "year                       0\n",
       "month                      0\n",
       "week                       0\n",
       "day                        0\n",
       "weekday                    0\n",
       "hour                       0\n",
       "dtype: int64"
      ]
     },
     "execution_count": 26,
     "metadata": {},
     "output_type": "execute_result"
    }
   ],
   "source": [
    "df.isnull().sum()"
   ]
  },
  {
   "cell_type": "code",
   "execution_count": 27,
   "metadata": {},
   "outputs": [
    {
     "data": {
      "text/plain": [
       "0"
      ]
     },
     "execution_count": 27,
     "metadata": {},
     "output_type": "execute_result"
    }
   ],
   "source": [
    "df.duplicated().sum()"
   ]
  },
  {
   "cell_type": "markdown",
   "metadata": {},
   "source": [
    "There are no duplicates or missing values.\n",
    "\n",
    "Let's perform some sanity check on the values:"
   ]
  },
  {
   "cell_type": "code",
   "execution_count": 28,
   "metadata": {
    "scrolled": true
   },
   "outputs": [
    {
     "data": {
      "text/html": [
       "<div>\n",
       "<style scoped>\n",
       "    .dataframe tbody tr th:only-of-type {\n",
       "        vertical-align: middle;\n",
       "    }\n",
       "\n",
       "    .dataframe tbody tr th {\n",
       "        vertical-align: top;\n",
       "    }\n",
       "\n",
       "    .dataframe thead th {\n",
       "        text-align: right;\n",
       "    }\n",
       "</style>\n",
       "<table border=\"1\" class=\"dataframe\">\n",
       "  <thead>\n",
       "    <tr style=\"text-align: right;\">\n",
       "      <th></th>\n",
       "      <th>end_station_latitude</th>\n",
       "      <th>end_station_longitude</th>\n",
       "      <th>start_station_latitude</th>\n",
       "      <th>start_station_longitude</th>\n",
       "      <th>low_income_trip</th>\n",
       "      <th>subscriber</th>\n",
       "      <th>gender</th>\n",
       "      <th>duration_min</th>\n",
       "      <th>user_age</th>\n",
       "      <th>year</th>\n",
       "      <th>month</th>\n",
       "      <th>week</th>\n",
       "      <th>day</th>\n",
       "      <th>weekday</th>\n",
       "      <th>hour</th>\n",
       "    </tr>\n",
       "  </thead>\n",
       "  <tbody>\n",
       "    <tr>\n",
       "      <th>count</th>\n",
       "      <td>453,159.00</td>\n",
       "      <td>453,159.00</td>\n",
       "      <td>453,159.00</td>\n",
       "      <td>453,159.00</td>\n",
       "      <td>453,159.00</td>\n",
       "      <td>453,159.00</td>\n",
       "      <td>453,159.00</td>\n",
       "      <td>453,159.00</td>\n",
       "      <td>453,159.00</td>\n",
       "      <td>453,159.00</td>\n",
       "      <td>453,159.00</td>\n",
       "      <td>453,159.00</td>\n",
       "      <td>453,159.00</td>\n",
       "      <td>453,159.00</td>\n",
       "      <td>453,159.00</td>\n",
       "    </tr>\n",
       "    <tr>\n",
       "      <th>mean</th>\n",
       "      <td>37.77</td>\n",
       "      <td>-122.36</td>\n",
       "      <td>37.77</td>\n",
       "      <td>-122.36</td>\n",
       "      <td>0.00</td>\n",
       "      <td>0.89</td>\n",
       "      <td>0.77</td>\n",
       "      <td>13.88</td>\n",
       "      <td>36.60</td>\n",
       "      <td>2,017.00</td>\n",
       "      <td>9.78</td>\n",
       "      <td>40.68</td>\n",
       "      <td>15.87</td>\n",
       "      <td>2.52</td>\n",
       "      <td>13.39</td>\n",
       "    </tr>\n",
       "    <tr>\n",
       "      <th>std</th>\n",
       "      <td>0.08</td>\n",
       "      <td>0.10</td>\n",
       "      <td>0.08</td>\n",
       "      <td>0.10</td>\n",
       "      <td>0.00</td>\n",
       "      <td>0.31</td>\n",
       "      <td>0.42</td>\n",
       "      <td>42.09</td>\n",
       "      <td>10.51</td>\n",
       "      <td>0.00</td>\n",
       "      <td>1.56</td>\n",
       "      <td>6.70</td>\n",
       "      <td>8.81</td>\n",
       "      <td>1.80</td>\n",
       "      <td>4.67</td>\n",
       "    </tr>\n",
       "    <tr>\n",
       "      <th>min</th>\n",
       "      <td>37.32</td>\n",
       "      <td>-122.44</td>\n",
       "      <td>37.32</td>\n",
       "      <td>-122.44</td>\n",
       "      <td>0.00</td>\n",
       "      <td>0.00</td>\n",
       "      <td>0.00</td>\n",
       "      <td>1.00</td>\n",
       "      <td>18.00</td>\n",
       "      <td>2,017.00</td>\n",
       "      <td>6.00</td>\n",
       "      <td>26.00</td>\n",
       "      <td>1.00</td>\n",
       "      <td>0.00</td>\n",
       "      <td>0.00</td>\n",
       "    </tr>\n",
       "    <tr>\n",
       "      <th>25%</th>\n",
       "      <td>37.77</td>\n",
       "      <td>-122.41</td>\n",
       "      <td>37.77</td>\n",
       "      <td>-122.41</td>\n",
       "      <td>0.00</td>\n",
       "      <td>1.00</td>\n",
       "      <td>1.00</td>\n",
       "      <td>6.10</td>\n",
       "      <td>29.00</td>\n",
       "      <td>2,017.00</td>\n",
       "      <td>9.00</td>\n",
       "      <td>35.00</td>\n",
       "      <td>8.00</td>\n",
       "      <td>1.00</td>\n",
       "      <td>9.00</td>\n",
       "    </tr>\n",
       "    <tr>\n",
       "      <th>50%</th>\n",
       "      <td>37.78</td>\n",
       "      <td>-122.40</td>\n",
       "      <td>37.78</td>\n",
       "      <td>-122.40</td>\n",
       "      <td>0.00</td>\n",
       "      <td>1.00</td>\n",
       "      <td>1.00</td>\n",
       "      <td>9.30</td>\n",
       "      <td>34.00</td>\n",
       "      <td>2,017.00</td>\n",
       "      <td>10.00</td>\n",
       "      <td>41.00</td>\n",
       "      <td>16.00</td>\n",
       "      <td>2.00</td>\n",
       "      <td>14.00</td>\n",
       "    </tr>\n",
       "    <tr>\n",
       "      <th>75%</th>\n",
       "      <td>37.80</td>\n",
       "      <td>-122.39</td>\n",
       "      <td>37.80</td>\n",
       "      <td>-122.39</td>\n",
       "      <td>0.00</td>\n",
       "      <td>1.00</td>\n",
       "      <td>1.00</td>\n",
       "      <td>14.00</td>\n",
       "      <td>43.00</td>\n",
       "      <td>2,017.00</td>\n",
       "      <td>11.00</td>\n",
       "      <td>46.00</td>\n",
       "      <td>23.00</td>\n",
       "      <td>4.00</td>\n",
       "      <td>17.00</td>\n",
       "    </tr>\n",
       "    <tr>\n",
       "      <th>max</th>\n",
       "      <td>37.88</td>\n",
       "      <td>-121.87</td>\n",
       "      <td>37.88</td>\n",
       "      <td>-121.87</td>\n",
       "      <td>0.00</td>\n",
       "      <td>1.00</td>\n",
       "      <td>1.00</td>\n",
       "      <td>1,437.50</td>\n",
       "      <td>131.00</td>\n",
       "      <td>2,017.00</td>\n",
       "      <td>12.00</td>\n",
       "      <td>52.00</td>\n",
       "      <td>31.00</td>\n",
       "      <td>6.00</td>\n",
       "      <td>23.00</td>\n",
       "    </tr>\n",
       "  </tbody>\n",
       "</table>\n",
       "</div>"
      ],
      "text/plain": [
       "       end_station_latitude  end_station_longitude  start_station_latitude  \\\n",
       "count            453,159.00             453,159.00              453,159.00   \n",
       "mean                  37.77                -122.36                   37.77   \n",
       "std                    0.08                   0.10                    0.08   \n",
       "min                   37.32                -122.44                   37.32   \n",
       "25%                   37.77                -122.41                   37.77   \n",
       "50%                   37.78                -122.40                   37.78   \n",
       "75%                   37.80                -122.39                   37.80   \n",
       "max                   37.88                -121.87                   37.88   \n",
       "\n",
       "       start_station_longitude  low_income_trip  subscriber     gender  \\\n",
       "count               453,159.00       453,159.00  453,159.00 453,159.00   \n",
       "mean                   -122.36             0.00        0.89       0.77   \n",
       "std                       0.10             0.00        0.31       0.42   \n",
       "min                    -122.44             0.00        0.00       0.00   \n",
       "25%                    -122.41             0.00        1.00       1.00   \n",
       "50%                    -122.40             0.00        1.00       1.00   \n",
       "75%                    -122.39             0.00        1.00       1.00   \n",
       "max                    -121.87             0.00        1.00       1.00   \n",
       "\n",
       "       duration_min   user_age       year      month       week        day  \\\n",
       "count    453,159.00 453,159.00 453,159.00 453,159.00 453,159.00 453,159.00   \n",
       "mean          13.88      36.60   2,017.00       9.78      40.68      15.87   \n",
       "std           42.09      10.51       0.00       1.56       6.70       8.81   \n",
       "min            1.00      18.00   2,017.00       6.00      26.00       1.00   \n",
       "25%            6.10      29.00   2,017.00       9.00      35.00       8.00   \n",
       "50%            9.30      34.00   2,017.00      10.00      41.00      16.00   \n",
       "75%           14.00      43.00   2,017.00      11.00      46.00      23.00   \n",
       "max        1,437.50     131.00   2,017.00      12.00      52.00      31.00   \n",
       "\n",
       "         weekday       hour  \n",
       "count 453,159.00 453,159.00  \n",
       "mean        2.52      13.39  \n",
       "std         1.80       4.67  \n",
       "min         0.00       0.00  \n",
       "25%         1.00       9.00  \n",
       "50%         2.00      14.00  \n",
       "75%         4.00      17.00  \n",
       "max         6.00      23.00  "
      ]
     },
     "execution_count": 28,
     "metadata": {},
     "output_type": "execute_result"
    }
   ],
   "source": [
    "pd.options.display.float_format = '{:,.2f}'.format\n",
    "df.describe()"
   ]
  },
  {
   "cell_type": "markdown",
   "metadata": {},
   "source": [
    "+ All pairs of latitude and longitude seem coherent with the San Francisco area.\n",
    "+ Since we are working only with 2017 data, there is no information for Low Income Trip. Let's drop this column.\n",
    "+ Subscriber and Gender: these features represent binary data. All values are between 0 and 1.\n",
    "+ User Age: Minimum value is 18 years old - which might be a requirement to register and use the system. But the maximum value of 131 years old seems off and require further investigation.\n",
    "+ Trip Duration: Minimum value is 1, probably representing a user that got a bike and decided to swap it for a different one. The maximum value is 1,437, representing almost a full day. Let's further investigate these extreme low/high values\n",
    "+ Month: Minimum value is 6 and maximum is 12, meaning there is data from June - December of 2017.\n",
    "+ All other date components fields are appropriate"
   ]
  },
  {
   "cell_type": "code",
   "execution_count": 29,
   "metadata": {},
   "outputs": [],
   "source": [
    "# Drop Low Income Trip column\n",
    "df.drop(columns='low_income_trip', inplace=True)"
   ]
  },
  {
   "cell_type": "code",
   "execution_count": 30,
   "metadata": {},
   "outputs": [
    {
     "name": "stdout",
     "output_type": "stream",
     "text": [
      "Total of 384 trips by user > 100 years old\n"
     ]
    },
    {
     "data": {
      "text/plain": [
       "115    217\n",
       "117    142\n",
       "106     12\n",
       "110      7\n",
       "116      4\n",
       "131      2\n",
       "Name: user_age, dtype: int64"
      ]
     },
     "execution_count": 30,
     "metadata": {},
     "output_type": "execute_result"
    }
   ],
   "source": [
    "# Further investigate maximum user age\n",
    "print(f\"Total of {df.query('user_age > 100').user_age.count()} trips by user > 100 years old\")\n",
    "\n",
    "df.query('user_age > 100').user_age.value_counts()"
   ]
  },
  {
   "cell_type": "markdown",
   "metadata": {},
   "source": [
    "Since there are only few records for trips taken by users older than 100 years old, let's go ahead and remove such observations:"
   ]
  },
  {
   "cell_type": "code",
   "execution_count": 31,
   "metadata": {},
   "outputs": [],
   "source": [
    "df.drop(df.query('user_age > 100').index, inplace=True)"
   ]
  },
  {
   "cell_type": "code",
   "execution_count": 39,
   "metadata": {},
   "outputs": [
    {
     "data": {
      "text/plain": [
       "1.80    799\n",
       "1.90    642\n",
       "1.60    556\n",
       "1.70    477\n",
       "1.40    442\n",
       "1.50    347\n",
       "1.20    287\n",
       "1.30    268\n",
       "1.10    191\n",
       "1.00    125\n",
       "Name: duration_min, dtype: int64"
      ]
     },
     "execution_count": 39,
     "metadata": {},
     "output_type": "execute_result"
    }
   ],
   "source": [
    "# Trip Duration: investigating extreme values\n",
    "df.query('duration_min < 2').duration_min.value_counts()"
   ]
  },
  {
   "cell_type": "code",
   "execution_count": 33,
   "metadata": {},
   "outputs": [
    {
     "data": {
      "image/png": "[encoded data removed]",
      "text/plain": [
       "<matplotlib.figure.Figure at 0x1e91a1adbe0>"
      ]
     },
     "metadata": {
      "needs_background": "light"
     },
     "output_type": "display_data"
    }
   ],
   "source": [
    "a = df.query('duration_min > 300').duration_min#.plot(kind='hist');\n",
    "sns.distplot(a);"
   ]
  },
  {
   "cell_type": "code",
   "execution_count": 34,
   "metadata": {},
   "outputs": [
    {
     "data": {
      "image/png": "[encoded data removed]",
      "text/plain": [
       "<matplotlib.figure.Figure at 0x1e913bed160>"
      ]
     },
     "metadata": {
      "needs_background": "light"
     },
     "output_type": "display_data"
    }
   ],
   "source": [
    "sns.distplot(df.query('duration_min >60 & duration_min<420').duration_min);"
   ]
  },
  {
   "cell_type": "markdown",
   "metadata": {},
   "source": [
    "Finally, let's use the datetime variable as the index, allowing us to make use of the powerful time-series functions provided by Pandas:"
   ]
  },
  {
   "cell_type": "code",
   "execution_count": 41,
   "metadata": {},
   "outputs": [],
   "source": [
    "# df.set_index(df.start_time, inplace=True)"
   ]
  },
  {
   "cell_type": "code",
   "execution_count": 36,
   "metadata": {},
   "outputs": [
    {
     "data": {
      "text/html": [
       "<div>\n",
       "<style scoped>\n",
       "    .dataframe tbody tr th:only-of-type {\n",
       "        vertical-align: middle;\n",
       "    }\n",
       "\n",
       "    .dataframe tbody tr th {\n",
       "        vertical-align: top;\n",
       "    }\n",
       "\n",
       "    .dataframe thead th {\n",
       "        text-align: right;\n",
       "    }\n",
       "</style>\n",
       "<table border=\"1\" class=\"dataframe\">\n",
       "  <thead>\n",
       "    <tr style=\"text-align: right;\">\n",
       "      <th></th>\n",
       "      <th>bike_id</th>\n",
       "      <th>end_station_id</th>\n",
       "      <th>end_station_latitude</th>\n",
       "      <th>end_station_longitude</th>\n",
       "      <th>start_station_id</th>\n",
       "      <th>start_station_latitude</th>\n",
       "      <th>start_station_longitude</th>\n",
       "      <th>start_time</th>\n",
       "      <th>subscriber</th>\n",
       "      <th>gender</th>\n",
       "      <th>duration_min</th>\n",
       "      <th>user_age</th>\n",
       "      <th>year</th>\n",
       "      <th>month</th>\n",
       "      <th>week</th>\n",
       "      <th>day</th>\n",
       "      <th>weekday</th>\n",
       "      <th>hour</th>\n",
       "    </tr>\n",
       "    <tr>\n",
       "      <th>start_time</th>\n",
       "      <th></th>\n",
       "      <th></th>\n",
       "      <th></th>\n",
       "      <th></th>\n",
       "      <th></th>\n",
       "      <th></th>\n",
       "      <th></th>\n",
       "      <th></th>\n",
       "      <th></th>\n",
       "      <th></th>\n",
       "      <th></th>\n",
       "      <th></th>\n",
       "      <th></th>\n",
       "      <th></th>\n",
       "      <th></th>\n",
       "      <th></th>\n",
       "      <th></th>\n",
       "      <th></th>\n",
       "    </tr>\n",
       "  </thead>\n",
       "  <tbody>\n",
       "    <tr>\n",
       "      <th>2017-06-28 09:47:36.347</th>\n",
       "      <td>240</td>\n",
       "      <td>48</td>\n",
       "      <td>37.78</td>\n",
       "      <td>-122.39</td>\n",
       "      <td>21</td>\n",
       "      <td>37.79</td>\n",
       "      <td>-122.40</td>\n",
       "      <td>2017-06-28 09:47:36.347</td>\n",
       "      <td>1</td>\n",
       "      <td>0</td>\n",
       "      <td>7.10</td>\n",
       "      <td>32</td>\n",
       "      <td>2017</td>\n",
       "      <td>6</td>\n",
       "      <td>26</td>\n",
       "      <td>28</td>\n",
       "      <td>2</td>\n",
       "      <td>9</td>\n",
       "    </tr>\n",
       "    <tr>\n",
       "      <th>2017-06-28 09:47:41.664</th>\n",
       "      <td>669</td>\n",
       "      <td>59</td>\n",
       "      <td>37.77</td>\n",
       "      <td>-122.42</td>\n",
       "      <td>58</td>\n",
       "      <td>37.78</td>\n",
       "      <td>-122.42</td>\n",
       "      <td>2017-06-28 09:47:41.664</td>\n",
       "      <td>1</td>\n",
       "      <td>1</td>\n",
       "      <td>6.10</td>\n",
       "      <td>36</td>\n",
       "      <td>2017</td>\n",
       "      <td>6</td>\n",
       "      <td>26</td>\n",
       "      <td>28</td>\n",
       "      <td>2</td>\n",
       "      <td>9</td>\n",
       "    </tr>\n",
       "    <tr>\n",
       "      <th>2017-06-28 09:49:46.377</th>\n",
       "      <td>117</td>\n",
       "      <td>48</td>\n",
       "      <td>37.78</td>\n",
       "      <td>-122.39</td>\n",
       "      <td>25</td>\n",
       "      <td>37.79</td>\n",
       "      <td>-122.40</td>\n",
       "      <td>2017-06-28 09:49:46.377</td>\n",
       "      <td>1</td>\n",
       "      <td>1</td>\n",
       "      <td>3.10</td>\n",
       "      <td>33</td>\n",
       "      <td>2017</td>\n",
       "      <td>6</td>\n",
       "      <td>26</td>\n",
       "      <td>28</td>\n",
       "      <td>2</td>\n",
       "      <td>9</td>\n",
       "    </tr>\n",
       "    <tr>\n",
       "      <th>2017-06-28 09:50:59.175</th>\n",
       "      <td>77</td>\n",
       "      <td>9</td>\n",
       "      <td>37.80</td>\n",
       "      <td>-122.40</td>\n",
       "      <td>81</td>\n",
       "      <td>37.78</td>\n",
       "      <td>-122.39</td>\n",
       "      <td>2017-06-28 09:50:59.175</td>\n",
       "      <td>1</td>\n",
       "      <td>1</td>\n",
       "      <td>20.00</td>\n",
       "      <td>32</td>\n",
       "      <td>2017</td>\n",
       "      <td>6</td>\n",
       "      <td>26</td>\n",
       "      <td>28</td>\n",
       "      <td>2</td>\n",
       "      <td>9</td>\n",
       "    </tr>\n",
       "    <tr>\n",
       "      <th>2017-06-28 09:56:39.631</th>\n",
       "      <td>316</td>\n",
       "      <td>321</td>\n",
       "      <td>37.78</td>\n",
       "      <td>-122.40</td>\n",
       "      <td>66</td>\n",
       "      <td>37.78</td>\n",
       "      <td>-122.39</td>\n",
       "      <td>2017-06-28 09:56:39.631</td>\n",
       "      <td>1</td>\n",
       "      <td>1</td>\n",
       "      <td>7.20</td>\n",
       "      <td>44</td>\n",
       "      <td>2017</td>\n",
       "      <td>6</td>\n",
       "      <td>26</td>\n",
       "      <td>28</td>\n",
       "      <td>2</td>\n",
       "      <td>9</td>\n",
       "    </tr>\n",
       "  </tbody>\n",
       "</table>\n",
       "</div>"
      ],
      "text/plain": [
       "                        bike_id end_station_id  end_station_latitude  \\\n",
       "start_time                                                             \n",
       "2017-06-28 09:47:36.347     240             48                 37.78   \n",
       "2017-06-28 09:47:41.664     669             59                 37.77   \n",
       "2017-06-28 09:49:46.377     117             48                 37.78   \n",
       "2017-06-28 09:50:59.175      77              9                 37.80   \n",
       "2017-06-28 09:56:39.631     316            321                 37.78   \n",
       "\n",
       "                         end_station_longitude start_station_id  \\\n",
       "start_time                                                        \n",
       "2017-06-28 09:47:36.347                -122.39               21   \n",
       "2017-06-28 09:47:41.664                -122.42               58   \n",
       "2017-06-28 09:49:46.377                -122.39               25   \n",
       "2017-06-28 09:50:59.175                -122.40               81   \n",
       "2017-06-28 09:56:39.631                -122.40               66   \n",
       "\n",
       "                         start_station_latitude  start_station_longitude  \\\n",
       "start_time                                                                 \n",
       "2017-06-28 09:47:36.347                   37.79                  -122.40   \n",
       "2017-06-28 09:47:41.664                   37.78                  -122.42   \n",
       "2017-06-28 09:49:46.377                   37.79                  -122.40   \n",
       "2017-06-28 09:50:59.175                   37.78                  -122.39   \n",
       "2017-06-28 09:56:39.631                   37.78                  -122.39   \n",
       "\n",
       "                                     start_time  subscriber  gender  \\\n",
       "start_time                                                            \n",
       "2017-06-28 09:47:36.347 2017-06-28 09:47:36.347           1       0   \n",
       "2017-06-28 09:47:41.664 2017-06-28 09:47:41.664           1       1   \n",
       "2017-06-28 09:49:46.377 2017-06-28 09:49:46.377           1       1   \n",
       "2017-06-28 09:50:59.175 2017-06-28 09:50:59.175           1       1   \n",
       "2017-06-28 09:56:39.631 2017-06-28 09:56:39.631           1       1   \n",
       "\n",
       "                         duration_min  user_age  year  month  week  day  \\\n",
       "start_time                                                                \n",
       "2017-06-28 09:47:36.347          7.10        32  2017      6    26   28   \n",
       "2017-06-28 09:47:41.664          6.10        36  2017      6    26   28   \n",
       "2017-06-28 09:49:46.377          3.10        33  2017      6    26   28   \n",
       "2017-06-28 09:50:59.175         20.00        32  2017      6    26   28   \n",
       "2017-06-28 09:56:39.631          7.20        44  2017      6    26   28   \n",
       "\n",
       "                         weekday  hour  \n",
       "start_time                              \n",
       "2017-06-28 09:47:36.347        2     9  \n",
       "2017-06-28 09:47:41.664        2     9  \n",
       "2017-06-28 09:49:46.377        2     9  \n",
       "2017-06-28 09:50:59.175        2     9  \n",
       "2017-06-28 09:56:39.631        2     9  "
      ]
     },
     "execution_count": 36,
     "metadata": {},
     "output_type": "execute_result"
    }
   ],
   "source": [
    "df.sort_index(inplace=True)\n",
    "df.head()"
   ]
  },
  {
   "cell_type": "markdown",
   "metadata": {},
   "source": [
    "## Univariate Exploration\n",
    "\n",
    "> In this section, investigate distributions of individual variables. If\n",
    "you see unusual points or outliers, take a deeper look to clean things up\n",
    "and prepare yourself to look at relationships between variables."
   ]
  },
  {
   "cell_type": "code",
   "execution_count": 37,
   "metadata": {},
   "outputs": [],
   "source": [
    "def proportion_categorical(variable):\n",
    "    g = df[f'{variable}'].value_counts(normalize=True)\n",
    "    sns.barplot(x=g.keys(), y=g.values)\n",
    "    plt.title(f'Proportion of {variable}')\n",
    "    plt.ylabel('proportion [%]');"
   ]
  },
  {
   "cell_type": "code",
   "execution_count": 42,
   "metadata": {},
   "outputs": [
    {
     "data": {
      "image/png": "[encoded data removed]",
      "text/plain": [
       "<matplotlib.figure.Figure at 0x1e91ca7beb8>"
      ]
     },
     "metadata": {
      "needs_background": "light"
     },
     "output_type": "display_data"
    }
   ],
   "source": [
    "proportion_categorical('subscriber')"
   ]
  },
  {
   "cell_type": "code",
   "execution_count": 43,
   "metadata": {},
   "outputs": [
    {
     "data": {
      "image/png": "[encoded data removed]",
      "text/plain": [
       "<matplotlib.figure.Figure at 0x1e90a11c2e8>"
      ]
     },
     "metadata": {
      "needs_background": "light"
     },
     "output_type": "display_data"
    }
   ],
   "source": [
    "proportion_categorical('gender')"
   ]
  },
  {
   "cell_type": "code",
   "execution_count": 75,
   "metadata": {},
   "outputs": [
    {
     "name": "stdout",
     "output_type": "stream",
     "text": [
      "98.8% of trips last less than 60 minutes.\n"
     ]
    }
   ],
   "source": [
    "# Proportion of trips lasting under 60 minutes\n",
    "proportion_under60 = df.query('duration_min <= 60').count()[0]/len(df)\n",
    "print(f'{proportion_under60:.1%} of trips last less than 60 minutes.')"
   ]
  },
  {
   "cell_type": "code",
   "execution_count": 76,
   "metadata": {},
   "outputs": [
    {
     "data": {
      "image/png": "[encoded data removed]",
      "text/plain": [
       "<matplotlib.figure.Figure at 0x1e9433f3da0>"
      ]
     },
     "metadata": {
      "needs_background": "light"
     },
     "output_type": "display_data"
    }
   ],
   "source": [
    "df.query('duration_min <= 60').duration_min.plot(kind='hist', bins=range(1,60,1));"
   ]
  },
  {
   "cell_type": "markdown",
   "metadata": {},
   "source": [
    "The trip distribution (in minutes) is highly skewed to the right, even after filtering out trips taking longer than one hour.\n",
    "\n",
    "Let's transform it into the log10 scale:"
   ]
  },
  {
   "cell_type": "code",
   "execution_count": 71,
   "metadata": {},
   "outputs": [
    {
     "data": {
      "image/png": "[encoded data removed]",
      "text/plain": [
       "<matplotlib.figure.Figure at 0x1e9439a0cc0>"
      ]
     },
     "metadata": {
      "needs_background": "light"
     },
     "output_type": "display_data"
    }
   ],
   "source": [
    "log_bins = 10 ** np.arange(0, 2+0.1, 0.1)\n",
    "\n",
    "df.query('duration_min <= 60').duration_min.plot(kind='hist', bins=log_bins);\n",
    "plt.xscale('log')\n",
    "log_ticks = [1, 3, 10, 30, 100]\n",
    "plt.xticks(log_ticks, log_ticks)\n",
    "plt.xlabel('Trip duration [min] - log10 scale');"
   ]
  },
  {
   "cell_type": "code",
   "execution_count": null,
   "metadata": {},
   "outputs": [],
   "source": [
    "df.duration_min.describe()\n",
    "df.duration_min.quantile(0.95)"
   ]
  },
  {
   "cell_type": "markdown",
   "metadata": {},
   "source": [
    "After transforming the trip duration (min) into the log10 scale, the values present a normal-like distribution. \n",
    "\n",
    "95% of trips last less than 30 minutes."
   ]
  },
  {
   "cell_type": "code",
   "execution_count": null,
   "metadata": {},
   "outputs": [],
   "source": [
    "df.user_age.describe()"
   ]
  },
  {
   "cell_type": "markdown",
   "metadata": {},
   "source": [
    "Further investigate age, since too high value seems to be wrong entry."
   ]
  },
  {
   "cell_type": "code",
   "execution_count": null,
   "metadata": {},
   "outputs": [],
   "source": [
    "df.user_age.plot(kind='hist', title='Age distribution');"
   ]
  },
  {
   "cell_type": "markdown",
   "metadata": {},
   "source": [
    "> Make sure that, after every plot or related series of plots, that you\n",
    "include a Markdown cell with comments about what you observed, and what\n",
    "you plan on investigating next."
   ]
  },
  {
   "cell_type": "code",
   "execution_count": null,
   "metadata": {},
   "outputs": [],
   "source": []
  },
  {
   "cell_type": "markdown",
   "metadata": {},
   "source": [
    "### Discuss the distribution(s) of your variable(s) of interest. Were there any unusual points? Did you need to perform any transformations?\n",
    "\n",
    "> Your answer here!\n",
    "\n",
    "### Of the features you investigated, were there any unusual distributions? Did you perform any operations on the data to tidy, adjust, or change the form of the data? If so, why did you do this?\n",
    "\n",
    "> Your answer here!"
   ]
  },
  {
   "cell_type": "markdown",
   "metadata": {},
   "source": [
    "## Bivariate Exploration\n",
    "\n",
    "> In this section, investigate relationships between pairs of variables in your\n",
    "data. Make sure the variables that you cover here have been introduced in some\n",
    "fashion in the previous section (univariate exploration)."
   ]
  },
  {
   "cell_type": "code",
   "execution_count": null,
   "metadata": {},
   "outputs": [],
   "source": []
  },
  {
   "cell_type": "markdown",
   "metadata": {},
   "source": [
    "### Talk about some of the relationships you observed in this part of the investigation. How did the feature(s) of interest vary with other features in the dataset?\n",
    "\n",
    "> Your answer here!\n",
    "\n",
    "### Did you observe any interesting relationships between the other features (not the main feature(s) of interest)?\n",
    "\n",
    "> Your answer here!"
   ]
  },
  {
   "cell_type": "markdown",
   "metadata": {},
   "source": [
    "## Multivariate Exploration\n",
    "\n",
    "> Create plots of three or more variables to investigate your data even\n",
    "further. Make sure that your investigations are justified, and follow from\n",
    "your work in the previous sections."
   ]
  },
  {
   "cell_type": "code",
   "execution_count": null,
   "metadata": {},
   "outputs": [],
   "source": []
  },
  {
   "cell_type": "markdown",
   "metadata": {},
   "source": [
    "### Talk about some of the relationships you observed in this part of the investigation. Were there features that strengthened each other in terms of looking at your feature(s) of interest?\n",
    "\n",
    "> Your answer here!\n",
    "\n",
    "### Were there any interesting or surprising interactions between features?\n",
    "\n",
    "> Your answer here!"
   ]
  },
  {
   "cell_type": "markdown",
   "metadata": {},
   "source": [
    "> At the end of your report, make sure that you export the notebook as an\n",
    "html file from the `File > Download as... > HTML` menu. Make sure you keep\n",
    "track of where the exported file goes, so you can put it in the same folder\n",
    "as this notebook for project submission. Also, make sure you remove all of\n",
    "the quote-formatted guide notes like this one before you finish your report!"
   ]
  },
  {
   "cell_type": "code",
   "execution_count": null,
   "metadata": {},
   "outputs": [],
   "source": []
  }
 ],
 "metadata": {
  "kernelspec": {
   "display_name": "Python 3",
   "language": "python",
   "name": "python3"
  },
  "language_info": {
   "codemirror_mode": {
    "name": "ipython",
    "version": 3
   },
   "file_extension": ".py",
   "mimetype": "text/x-python",
   "name": "python",
   "nbconvert_exporter": "python",
   "pygments_lexer": "ipython3",
   "version": "3.6.4"
  },
  "varInspector": {
   "cols": {
    "lenName": 16,
    "lenType": 16,
    "lenVar": 40
   },
   "kernels_config": {
    "python": {
     "delete_cmd_postfix": "",
     "delete_cmd_prefix": "del ",
     "library": "var_list.py",
     "varRefreshCmd": "print(var_dic_list())"
    },
    "r": {
     "delete_cmd_postfix": ") ",
     "delete_cmd_prefix": "rm(",
     "library": "var_list.r",
     "varRefreshCmd": "cat(var_dic_list()) "
    }
   },
   "types_to_exclude": [
    "module",
    "function",
    "builtin_function_or_method",
    "instance",
    "_Feature"
   ],
   "window_display": false
  }
 },
 "nbformat": 4,
 "nbformat_minor": 2
}
