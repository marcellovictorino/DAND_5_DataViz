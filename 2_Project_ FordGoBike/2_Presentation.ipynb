{
  "cells": [
    {
      "metadata": {
        "slideshow": {
          "slide_type": "slide"
        }
      },
      "cell_type": "markdown",
      "source": "# Ford Go Bike 2017\n## by Marcello Victorino\n*06/2019*"
    },
    {
      "metadata": {
        "slideshow": {
          "slide_type": "slide"
        }
      },
      "cell_type": "markdown",
      "source": "## Investigation Overview\n\nThis project analyzes the distribution of trips of the bike-sharing system Ford Go Bike, in San Francisco (USA) Bay Area, taken from June through December of 2017 (total of 443,121 observations).\n\nThe main goal is to perform an Exploratory Data Analysis in order to identify interesting insights, looking for patterns, relationships and correlations between all features.\nThe analysis is presented in the following structure:\n1. Descriptive Analysis\n2. Usage Pattern\n3. Trip Characteristics: Subscribers vs Sporadic Users\n4. Key Insights and Recommendations"
    },
    {
      "metadata": {
        "slideshow": {
          "slide_type": "slide"
        }
      },
      "cell_type": "markdown",
      "source": "## Dataset Overview\n\nThe Ford Go Bike is the Bike-share system operating in the Bay Area, San Francisco (USA). With around 6.400 bikes in more than 360 stations across San Francisco, East Bay and San Jose, there are basically two types of subscription:\n\n1. **Subscriber**: Membership can be Monthly (\\$15/mo) or Annual (\\$150/yr, equivalent to \\$12.50/mo). It grants unlimited 45-minutes trips\n2. **Customer**: \n   + Single ride (\\$2 per trip) and \n   + Access Pass (\\$10), granting unlimited 30-minute rides within 24 hours.\n\nThe [dataset](<https://www.fordgobike.com/system-data>) is open to the public, containing station and user data for each trip. At the time of this project, is was possible to download historic data from June, 2017 up to April, 2019."
    },
    {
      "metadata": {
        "slideshow": {
          "slide_type": "skip"
        },
        "trusted": true
      },
      "cell_type": "code",
      "source": "# import all packages and set plots to be embedded inline\nimport numpy as np\nimport pandas as pd\nimport matplotlib.pyplot as plt\nimport seaborn as sns\n\n%matplotlib inline\n\n# suppress warnings from final output\nimport warnings\nwarnings.simplefilter(\"ignore\")",
      "execution_count": 1,
      "outputs": [
        {
          "output_type": "stream",
          "text": "/home/nbuser/anaconda3_501/lib/python3.6/site-packages/matplotlib/font_manager.py:229: UserWarning: Matplotlib is building the font cache using fc-list. This may take a moment.\n  'Matplotlib is building the font cache using fc-list. '\n",
          "name": "stderr"
        }
      ]
    },
    {
      "metadata": {
        "slideshow": {
          "slide_type": "skip"
        },
        "trusted": true
      },
      "cell_type": "code",
      "source": "# load in the dataset into a pandas dataframe\ndf = pd.read_csv('Clean_FordGoBike_2017.csv')\ndf['weekend'] = np.where(df.weekday >= 5,1,0)",
      "execution_count": null,
      "outputs": []
    },
    {
      "metadata": {
        "slideshow": {
          "slide_type": "slide"
        }
      },
      "cell_type": "markdown",
      "source": "## 1. Descriptive Analysis\n\nBrief description of the distribution of trips taken from June to December of 2017:"
    },
    {
      "metadata": {
        "slideshow": {
          "slide_type": "subslide"
        },
        "trusted": true
      },
      "cell_type": "code",
      "source": "g = df.subscriber.value_counts(normalize=True)\nsns.barplot(x=g.keys(), y=g.values*100)\nplt.ylim(0,100)\nplt.title(f'Proportion of Trips by User Type')\nplt.xticks([0,1], ['Sporadic', 'Subscriber'])\nplt.ylabel('Proportion [%]');",
      "execution_count": null,
      "outputs": []
    },
    {
      "metadata": {
        "slideshow": {
          "slide_type": "fragment"
        }
      },
      "cell_type": "markdown",
      "source": "Almost 90% of the trips were taken by actual subscribers of the Ford Go Bike program."
    },
    {
      "metadata": {
        "slideshow": {
          "slide_type": "subslide"
        },
        "trusted": true
      },
      "cell_type": "code",
      "source": "g = df.gender.value_counts(normalize=True)\nsns.barplot(x=g.keys(), y=g.values*100)\nplt.ylim(0,100)\nplt.title(f'Proportion of Trips by Gender')\nplt.xticks([0,1], ['Female', 'Male'])\nplt.ylabel('Proportion [%]');",
      "execution_count": null,
      "outputs": []
    },
    {
      "metadata": {
        "slideshow": {
          "slide_type": "fragment"
        }
      },
      "cell_type": "markdown",
      "source": "The vast majority of trips were taken by men (77%)."
    },
    {
      "metadata": {
        "slideshow": {
          "slide_type": "subslide"
        },
        "trusted": true
      },
      "cell_type": "code",
      "source": "plt.figure(figsize=(12,5))\n\nplt.subplot(121)\ng = df.weekend.value_counts(normalize=True)\nsns.barplot(x=g.keys(), y=g.values*100)\nplt.ylim(0,100)\nplt.title(f'Proportion of Trips by Type of Day of Week')\nplt.xticks([0,1], ['Weekday', 'Weekend'])\nplt.ylabel('Proportion [%]');\n\nplt.subplot(122)\ng = df.weekday.value_counts(normalize=True)\nsns.barplot(x=g.keys(), y=g.values*100, palette='Blues_r')\nplt.ylim(0,100)\nplt.title(f'Proportion of Trips by Day of Week')\nplt.xticks(range(7), ['Mon','Tue','Wed','Thu','Fri','Sat','Sun']);\nplt.ylabel('Proportion [%]');",
      "execution_count": null,
      "outputs": []
    },
    {
      "metadata": {
        "slideshow": {
          "slide_type": "fragment"
        }
      },
      "cell_type": "markdown",
      "source": "Interestingly, the weekends actually have significant less trips (15%), whereas the weekday trips seems to be uniformly distributed around 17%.\n\nThis pattern suggests the majority of trips are actually completed for commuting purposes."
    },
    {
      "metadata": {
        "slideshow": {
          "slide_type": "slide"
        }
      },
      "cell_type": "markdown",
      "source": "## 2. Usage Pattern\n\nLet's further investigate the distribution of trips along the hours of the day:"
    },
    {
      "metadata": {
        "slideshow": {
          "slide_type": "subslide"
        },
        "trusted": true
      },
      "cell_type": "code",
      "source": "fig, axes = plt.subplots(1,2, sharey=True, figsize=(12,5))\n\nweekday = df.query('weekday not in (5,6)')\nweekday_hours = weekday.hour.value_counts(normalize=True)\nsns.barplot(x= weekday_hours.keys(), y= weekday_hours.values*100, color=sns.color_palette()[0], ax=axes[0])\n\naxes[0].set_title('Proportion of Trips per Hour: Weekday')\naxes[0].set_ylabel('Proportion [%]')\naxes[0].set_xlabel('Hours')\n\nweekend = df.query('weekday in (5,6)')\nweekend_hours = weekend.hour.value_counts(normalize=True)\nsns.barplot(x= weekend_hours.keys(), y= weekend_hours.values*100, color=sns.color_palette()[1], ax=axes[1])\n\nplt.title(f'Proportion of Trips per Hour: Weekend')\nplt.ylabel('Proportion [%]')\nplt.xlabel('Hours');\n\nplt.tight_layout()",
      "execution_count": null,
      "outputs": []
    },
    {
      "metadata": {
        "slideshow": {
          "slide_type": "fragment"
        }
      },
      "cell_type": "markdown",
      "source": "Separating the trips between Weekday and Weekend, it is possible to see a clear commuting pattern for trips occurring during weekdays.\n\nThere are two peaks of usage around 8h and 17h, depicting the typical pendular pattern of home-work and work-home trips."
    },
    {
      "metadata": {
        "slideshow": {
          "slide_type": "skip"
        },
        "trusted": true
      },
      "cell_type": "code",
      "source": "variables_interest = ['subscriber', 'gender','duration_min', 'user_age', 'weekday','hour']\ndf2 = df[variables_interest]\n\ndf3 = df2.query('user_age <60 & duration_min < 30')",
      "execution_count": null,
      "outputs": []
    },
    {
      "metadata": {
        "slideshow": {
          "slide_type": "subslide"
        },
        "trusted": true
      },
      "cell_type": "code",
      "source": "sns.heatmap(df3.pivot_table(index=pd.cut(df3.duration_min, bins=range(0,61)),\n                                columns=df3.hour, aggfunc='count',\n                                fill_value=0).gender, vmin=0,cmap='viridis');\nplt.title('Heatmap of Trip Distribution by Duration and Hour of Day');",
      "execution_count": null,
      "outputs": []
    },
    {
      "metadata": {
        "slideshow": {
          "slide_type": "fragment"
        }
      },
      "cell_type": "markdown",
      "source": "As seen before, most trips occurs in two peaks (around 8h and 17h). But this heatmap shows they usually take between 5 and 10 minutes, suggesting really short trips."
    },
    {
      "metadata": {
        "slideshow": {
          "slide_type": "subslide"
        },
        "trusted": true
      },
      "cell_type": "code",
      "source": "# User Age vs Hour of day\n\nsns.heatmap(df3.pivot_table(index=df3.user_age, columns=df3.hour, aggfunc='count', fill_value=0).gender,\n            vmin=0,cmap='viridis');\nplt.title('Heatmap of Trip Distribution by User Age and Hour of Day');",
      "execution_count": null,
      "outputs": []
    },
    {
      "metadata": {
        "slideshow": {
          "slide_type": "fragment"
        }
      },
      "cell_type": "markdown",
      "source": "There is no clear correlation between user age and the time the trip occurs, suggesting users of all ages are using the bike-share to commute."
    },
    {
      "metadata": {
        "slideshow": {
          "slide_type": "slide"
        }
      },
      "cell_type": "markdown",
      "source": "## 3. Trip Characteristics: Subscribers vs Sporadic Users\nNow let's stratify the analysis by the type of user:"
    },
    {
      "metadata": {
        "slideshow": {
          "slide_type": "subslide"
        },
        "trusted": true
      },
      "cell_type": "code",
      "source": "# Trip Duration vs Subscriber vs Gender\nsns.violinplot(data=df3, y='duration_min', x='subscriber', hue='gender', split=True, orient='v', inner='quartile',\n              hue_order=[1,0]);\nplt.title('Distribution of Trip Duration by Subscriber and Gender');",
      "execution_count": null,
      "outputs": []
    },
    {
      "metadata": {
        "slideshow": {
          "slide_type": "fragment"
        }
      },
      "cell_type": "markdown",
      "source": "Even though subscribers have access to unlimited 45-minutes trips, looks like their trips are typically shorter than Non-subscribers.\n\nThis could be explained due to the fact that subscribers usually take the bike for mobility purpose (trip as a mean of transportation), whereas occasional users could represent tourists using the bike for leisure and getting to know the city.\n\nAlthough not a significant difference, females seems to ride for slightly longer duration than males, for both subscribers and non-subscribers."
    },
    {
      "metadata": {
        "slideshow": {
          "slide_type": "skip"
        },
        "trusted": true
      },
      "cell_type": "code",
      "source": "subscriber1 = df2.query('subscriber == 1 & duration_min < 30')\nsubscriber0 = df2.query('subscriber == 0 & duration_min < 30')",
      "execution_count": null,
      "outputs": []
    },
    {
      "metadata": {
        "slideshow": {
          "slide_type": "subslide"
        },
        "trusted": true
      },
      "cell_type": "code",
      "source": "# Trip duration vs Hour Day - count\nplt.figure(figsize=(20,6))\n\nplt.subplot(121)\ntrip_duration_bins = pd.cut(subscriber1.duration_min, bins=range(0,61))\nsns.heatmap(subscriber1.pivot_table(index=trip_duration_bins, columns=subscriber1.hour, aggfunc='count', fill_value=0).gender, vmin=0,\n           cmap='viridis');\nplt.title('Heatmap of Distribution of Trip Duration by Hour of Day | Subscriber');\n\nplt.subplot(122)\ntrip_duration_bins = pd.cut(subscriber0.duration_min, bins=range(0,61))\nsns.heatmap(subscriber0.pivot_table(index=trip_duration_bins, columns=subscriber0.hour, aggfunc='count', fill_value=0).gender, vmin=0,\n           cmap='viridis');\nplt.title('Heatmap of Distribution of Trip Duration by Hour of Day | Sporadic');\n\nplt.tight_layout()",
      "execution_count": null,
      "outputs": []
    },
    {
      "metadata": {
        "slideshow": {
          "slide_type": "fragment"
        }
      },
      "cell_type": "markdown",
      "source": "There is a clear difference in the bike usage pattern between subscribers and sporadic users along the hours of the day:\n+ **Subscribers**: \n    - thre are two clear peaks of usage, around 8h and 17h - supporting commuting pattern\n    - both peaks concentrate trips taking between 5 and 10 minutes - supporting commuting pattern\n    \n+ **Sporadic**: \n    - although more spread out, there is one clear peak of usage, around 17h. But significant usage starting at 8h and ending by 19h\n    - although more spread out, most trips take from 7 up to 15 minutes"
    },
    {
      "metadata": {
        "slideshow": {
          "slide_type": "subslide"
        },
        "trusted": true
      },
      "cell_type": "code",
      "source": "# Trip duration vs User age - count vs Subscriber\nplt.figure(figsize=(12,4))\n\nplt.subplot(121)\ntrip_duration_bins = pd.cut(subscriber1.duration_min, bins=range(0,61))\nsns.heatmap(subscriber1.pivot_table(index=trip_duration_bins, columns=subscriber1.user_age, aggfunc='count',\n                                fill_value=0).gender, vmin=0,cmap='viridis');\nplt.title('Heatmap of Distribution of Trip Duration by user Age | Subscriber');\n\nplt.subplot(122)\ntrip_duration_bins = pd.cut(subscriber0.duration_min, bins=range(0,61))\nsns.heatmap(subscriber0.pivot_table(index=trip_duration_bins, columns=subscriber0.user_age, aggfunc='count',\n                                fill_value=0).gender, vmin=0,cmap='viridis');\nplt.title('Heatmap of Distribution of Trip Duration by user Age | Sporadic');\n\nplt.tight_layout()",
      "execution_count": null,
      "outputs": []
    },
    {
      "metadata": {
        "slideshow": {
          "slide_type": "fragment"
        }
      },
      "cell_type": "markdown",
      "source": "There is a clear difference in the bike usage pattern between subscribers and sporadic users:\n+ **Subscribers**: \n    - the vast majority of users are between 25 and 35 years old\n    - riding from 5 up to 10 minutes\n    \n+ **Sporadic**: \n    - the vast majority of users are between 28 and 30 years old - much more concentrated\n    - riding from 7 up to 20 minutes - much more spreaded out"
    },
    {
      "metadata": {
        "slideshow": {
          "slide_type": "slide"
        }
      },
      "cell_type": "markdown",
      "source": "## Key Insights:\n+ The vast majority of trips are taken by subscribers (90%). Of those, most trips are taken by users between 25 and 35 years old, riding from 5 to 10 minutes. These trips are concentrated in two peaks (8h and 17h), clearly suggesting a commuting pattern.\n+ No significant influence of gender on characteristics of trips taken.\n\n## Recommendations:\n+ Not many young adults (less than 20 years) using the system. Further investigate why and target this audience to increase number of users.\n+ Vast majority of trips seem to be taken for commuting purpose. Try to target advertising and offer special pricing for tourists in order to increase number of sporadic users."
    }
  ],
  "metadata": {
    "celltoolbar": "Slideshow",
    "kernelspec": {
      "name": "python36",
      "display_name": "Python 3.6",
      "language": "python"
    },
    "language_info": {
      "mimetype": "text/x-python",
      "nbconvert_exporter": "python",
      "name": "python",
      "pygments_lexer": "ipython3",
      "version": "3.6.6",
      "file_extension": ".py",
      "codemirror_mode": {
        "version": 3,
        "name": "ipython"
      }
    },
    "varInspector": {
      "cols": {
        "lenName": 16,
        "lenType": 16,
        "lenVar": 40
      },
      "kernels_config": {
        "python": {
          "delete_cmd_postfix": "",
          "delete_cmd_prefix": "del ",
          "library": "var_list.py",
          "varRefreshCmd": "print(var_dic_list())"
        },
        "r": {
          "delete_cmd_postfix": ") ",
          "delete_cmd_prefix": "rm(",
          "library": "var_list.r",
          "varRefreshCmd": "cat(var_dic_list()) "
        }
      },
      "types_to_exclude": [
        "module",
        "function",
        "builtin_function_or_method",
        "instance",
        "_Feature"
      ],
      "window_display": false
    }
  },
  "nbformat": 4,
  "nbformat_minor": 2
}